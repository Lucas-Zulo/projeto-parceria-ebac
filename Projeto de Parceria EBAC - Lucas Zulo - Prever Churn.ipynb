{
  "cells": [
    {
      "cell_type": "markdown",
      "source": [
        "<div style>\n",
        "   <h1>Projeto de Parceria</h1>\n",
        "   <b> por <a href=\"https://www.linkedin.com/in/lucas-zulo/\">Lucas Zulo</a> </b>\n",
        "</div>\n",
        "\n",
        "---"
      ],
      "metadata": {
        "id": "ZSSlFChS-6Py"
      },
      "id": "ZSSlFChS-6Py"
    },
    {
      "cell_type": "markdown",
      "source": [
        "## Sobre o Projeto"
      ],
      "metadata": {
        "id": "mtTajKQlThIX"
      },
      "id": "mtTajKQlThIX"
    },
    {
      "cell_type": "markdown",
      "source": [
        "Com o intúito de enfrentar a queda de clientes de uma empresa que oferece um determinado produto ou serviço, este projeto visa usar técnicas de aprendizado de máquina (machine learning) para criar um modelo preditivo do qual pretende identificar clientes que possam vir a se tornar churn.\n",
        "\n",
        "\n",
        "Churn é uma métrica que indica o número de clientes que cancelaram o contrato ou pararam de comprar um produto em um determinado período de tempo. Por exemplo, clientes que cancelaram o contrato de serviço ou não renovaram após o vencimento são considerados clientes em churn."
      ],
      "metadata": {
        "id": "JxwXf1Zl7P7y"
      },
      "id": "JxwXf1Zl7P7y"
    },
    {
      "cell_type": "markdown",
      "source": [
        "<div style>\n",
        "   Os dados utilizados neste projeto foram fornecidos na plataforma Kaggle e podem ser acessados através deste link: <a href=\"https://www.kaggle.com/datasets/muhammadshahidazeem/customer-churn-dataset/data\">Kaggle: Customer Churn Dataset</a>\n",
        "</div>"
      ],
      "metadata": {
        "id": "IBhsepvVAtp3"
      },
      "id": "IBhsepvVAtp3"
    },
    {
      "cell_type": "markdown",
      "source": [
        "## Estrutura dos Dados\n",
        "Os datasets (treinamento e teste) possuem as seguintes colunas:\n",
        "\n",
        "* CustomerID – Identificação do cliente\n",
        "* Age – Idade do cliente\n",
        "* Gender – Gênero do cliente (Male/Female)\n",
        "* Tenure – Tempo de permanência do cliente com a empresa\n",
        "* Usage Frequency – Frequência de uso do serviço\n",
        "* Support Calls – Número de chamadas ao suporte\n",
        "* Payment Delay – Atraso nos pagamentos\n",
        "* Subscription Type – Tipo de assinatura (Basic, Standard, Premium)\n",
        "* Contract Length – Duração do contrato (Monthly, Quarterly, Annual)\n",
        "* Total Spend – Total gasto pelo cliente\n",
        "* Last Interaction – Última interação com a empresa\n",
        "* Churn – Variável Alvo (1 para clientes que cancelaram, 0 para clientes que permaneceram)"
      ],
      "metadata": {
        "id": "HwLTD4dTIg8u"
      },
      "id": "HwLTD4dTIg8u"
    },
    {
      "cell_type": "code",
      "source": [
        "# Comandos de instalação\n",
        "!pip install optuna\n",
        "!pip install category_encoders"
      ],
      "metadata": {
        "colab": {
          "base_uri": "https://localhost:8080/"
        },
        "id": "4v5VfPH1QlYr",
        "outputId": "b18f6503-b947-4c33-d6e0-02c4bbe6c3b3"
      },
      "id": "4v5VfPH1QlYr",
      "execution_count": 1,
      "outputs": [
        {
          "output_type": "stream",
          "name": "stdout",
          "text": [
            "Collecting optuna\n",
            "  Downloading optuna-4.2.0-py3-none-any.whl.metadata (17 kB)\n",
            "Collecting alembic>=1.5.0 (from optuna)\n",
            "  Downloading alembic-1.14.1-py3-none-any.whl.metadata (7.4 kB)\n",
            "Collecting colorlog (from optuna)\n",
            "  Downloading colorlog-6.9.0-py3-none-any.whl.metadata (10 kB)\n",
            "Requirement already satisfied: numpy in /usr/local/lib/python3.11/dist-packages (from optuna) (1.26.4)\n",
            "Requirement already satisfied: packaging>=20.0 in /usr/local/lib/python3.11/dist-packages (from optuna) (24.2)\n",
            "Requirement already satisfied: sqlalchemy>=1.4.2 in /usr/local/lib/python3.11/dist-packages (from optuna) (2.0.37)\n",
            "Requirement already satisfied: tqdm in /usr/local/lib/python3.11/dist-packages (from optuna) (4.67.1)\n",
            "Requirement already satisfied: PyYAML in /usr/local/lib/python3.11/dist-packages (from optuna) (6.0.2)\n",
            "Collecting Mako (from alembic>=1.5.0->optuna)\n",
            "  Downloading Mako-1.3.8-py3-none-any.whl.metadata (2.9 kB)\n",
            "Requirement already satisfied: typing-extensions>=4 in /usr/local/lib/python3.11/dist-packages (from alembic>=1.5.0->optuna) (4.12.2)\n",
            "Requirement already satisfied: greenlet!=0.4.17 in /usr/local/lib/python3.11/dist-packages (from sqlalchemy>=1.4.2->optuna) (3.1.1)\n",
            "Requirement already satisfied: MarkupSafe>=0.9.2 in /usr/local/lib/python3.11/dist-packages (from Mako->alembic>=1.5.0->optuna) (3.0.2)\n",
            "Downloading optuna-4.2.0-py3-none-any.whl (383 kB)\n",
            "\u001b[2K   \u001b[90m━━━━━━━━━━━━━━━━━━━━━━━━━━━━━━━━━━━━━━━━\u001b[0m \u001b[32m383.4/383.4 kB\u001b[0m \u001b[31m8.6 MB/s\u001b[0m eta \u001b[36m0:00:00\u001b[0m\n",
            "\u001b[?25hDownloading alembic-1.14.1-py3-none-any.whl (233 kB)\n",
            "\u001b[2K   \u001b[90m━━━━━━━━━━━━━━━━━━━━━━━━━━━━━━━━━━━━━━━━\u001b[0m \u001b[32m233.6/233.6 kB\u001b[0m \u001b[31m17.6 MB/s\u001b[0m eta \u001b[36m0:00:00\u001b[0m\n",
            "\u001b[?25hDownloading colorlog-6.9.0-py3-none-any.whl (11 kB)\n",
            "Downloading Mako-1.3.8-py3-none-any.whl (78 kB)\n",
            "\u001b[2K   \u001b[90m━━━━━━━━━━━━━━━━━━━━━━━━━━━━━━━━━━━━━━━━\u001b[0m \u001b[32m78.6/78.6 kB\u001b[0m \u001b[31m6.2 MB/s\u001b[0m eta \u001b[36m0:00:00\u001b[0m\n",
            "\u001b[?25hInstalling collected packages: Mako, colorlog, alembic, optuna\n",
            "Successfully installed Mako-1.3.8 alembic-1.14.1 colorlog-6.9.0 optuna-4.2.0\n",
            "Collecting category_encoders\n",
            "  Downloading category_encoders-2.8.0-py3-none-any.whl.metadata (7.9 kB)\n",
            "Requirement already satisfied: numpy>=1.14.0 in /usr/local/lib/python3.11/dist-packages (from category_encoders) (1.26.4)\n",
            "Requirement already satisfied: pandas>=1.0.5 in /usr/local/lib/python3.11/dist-packages (from category_encoders) (2.2.2)\n",
            "Requirement already satisfied: patsy>=0.5.1 in /usr/local/lib/python3.11/dist-packages (from category_encoders) (1.0.1)\n",
            "Requirement already satisfied: scikit-learn>=1.6.0 in /usr/local/lib/python3.11/dist-packages (from category_encoders) (1.6.1)\n",
            "Requirement already satisfied: scipy>=1.0.0 in /usr/local/lib/python3.11/dist-packages (from category_encoders) (1.13.1)\n",
            "Requirement already satisfied: statsmodels>=0.9.0 in /usr/local/lib/python3.11/dist-packages (from category_encoders) (0.14.4)\n",
            "Requirement already satisfied: python-dateutil>=2.8.2 in /usr/local/lib/python3.11/dist-packages (from pandas>=1.0.5->category_encoders) (2.8.2)\n",
            "Requirement already satisfied: pytz>=2020.1 in /usr/local/lib/python3.11/dist-packages (from pandas>=1.0.5->category_encoders) (2024.2)\n",
            "Requirement already satisfied: tzdata>=2022.7 in /usr/local/lib/python3.11/dist-packages (from pandas>=1.0.5->category_encoders) (2025.1)\n",
            "Requirement already satisfied: joblib>=1.2.0 in /usr/local/lib/python3.11/dist-packages (from scikit-learn>=1.6.0->category_encoders) (1.4.2)\n",
            "Requirement already satisfied: threadpoolctl>=3.1.0 in /usr/local/lib/python3.11/dist-packages (from scikit-learn>=1.6.0->category_encoders) (3.5.0)\n",
            "Requirement already satisfied: packaging>=21.3 in /usr/local/lib/python3.11/dist-packages (from statsmodels>=0.9.0->category_encoders) (24.2)\n",
            "Requirement already satisfied: six>=1.5 in /usr/local/lib/python3.11/dist-packages (from python-dateutil>=2.8.2->pandas>=1.0.5->category_encoders) (1.17.0)\n",
            "Downloading category_encoders-2.8.0-py3-none-any.whl (85 kB)\n",
            "\u001b[2K   \u001b[90m━━━━━━━━━━━━━━━━━━━━━━━━━━━━━━━━━━━━━━━━\u001b[0m \u001b[32m85.7/85.7 kB\u001b[0m \u001b[31m2.4 MB/s\u001b[0m eta \u001b[36m0:00:00\u001b[0m\n",
            "\u001b[?25hInstalling collected packages: category_encoders\n",
            "Successfully installed category_encoders-2.8.0\n"
          ]
        }
      ]
    },
    {
      "cell_type": "code",
      "source": [
        "# Imports da biblioteca padrão\n",
        "from warnings import filterwarnings\n",
        "filterwarnings('ignore')\n",
        "\n",
        "# Imports de bibliotecas de terceiros\n",
        "import numpy as np\n",
        "import pandas as pd\n",
        "import matplotlib.pyplot as plt\n",
        "import seaborn as sns\n",
        "\n",
        "# Imports do scikit-learn\n",
        "from sklearn.model_selection import train_test_split\n",
        "from sklearn.preprocessing import StandardScaler\n",
        "from sklearn.tree import DecisionTreeClassifier, plot_tree\n",
        "from sklearn.ensemble import RandomForestClassifier\n",
        "from sklearn.metrics import accuracy_score, classification_report, confusion_matrix\n",
        "from sklearn import set_config\n",
        "set_config(transform_output=\"pandas\")\n",
        "\n",
        "# Imports de outros pacotes de terceiros\n",
        "import category_encoders\n",
        "\n",
        "# Imports do Optuna\n",
        "import optuna\n",
        "import optuna.logging\n",
        "optuna.logging.set_verbosity(optuna.logging.WARNING)"
      ],
      "metadata": {
        "id": "hRlJInBkQv85"
      },
      "id": "hRlJInBkQv85",
      "execution_count": 2,
      "outputs": []
    },
    {
      "cell_type": "code",
      "execution_count": 26,
      "id": "28f974d2",
      "metadata": {
        "execution": {
          "iopub.execute_input": "2024-04-24T06:27:38.442849Z",
          "iopub.status.busy": "2024-04-24T06:27:38.441986Z",
          "iopub.status.idle": "2024-04-24T06:27:39.325606Z",
          "shell.execute_reply": "2024-04-24T06:27:39.324441Z"
        },
        "papermill": {
          "duration": 0.894175,
          "end_time": "2024-04-24T06:27:39.327969",
          "exception": false,
          "start_time": "2024-04-24T06:27:38.433794",
          "status": "completed"
        },
        "tags": [],
        "id": "28f974d2"
      },
      "outputs": [],
      "source": [
        "# Lendo os datasets\n",
        "treino_df = pd.read_csv('customer_churn_dataset-training-master.csv')\n",
        "teste_df = pd.read_csv('customer_churn_dataset-testing-master.csv')"
      ]
    },
    {
      "cell_type": "markdown",
      "id": "dec8163f",
      "metadata": {
        "papermill": {
          "duration": 0.006639,
          "end_time": "2024-04-24T06:27:39.341834",
          "exception": false,
          "start_time": "2024-04-24T06:27:39.335195",
          "status": "completed"
        },
        "tags": [],
        "id": "dec8163f"
      },
      "source": [
        "## Análise Exploratória de Dados (EDA)"
      ]
    },
    {
      "cell_type": "code",
      "execution_count": 27,
      "id": "79dd8863",
      "metadata": {
        "execution": {
          "iopub.execute_input": "2024-04-24T06:27:39.358532Z",
          "iopub.status.busy": "2024-04-24T06:27:39.357612Z",
          "iopub.status.idle": "2024-04-24T06:27:39.392939Z",
          "shell.execute_reply": "2024-04-24T06:27:39.391767Z"
        },
        "papermill": {
          "duration": 0.046283,
          "end_time": "2024-04-24T06:27:39.395547",
          "exception": false,
          "start_time": "2024-04-24T06:27:39.349264",
          "status": "completed"
        },
        "tags": [],
        "colab": {
          "base_uri": "https://localhost:8080/",
          "height": 223
        },
        "id": "79dd8863",
        "outputId": "733fc602-3194-489c-a4ad-e4913e5eaecb"
      },
      "outputs": [
        {
          "output_type": "execute_result",
          "data": {
            "text/plain": [
              "   CustomerID   Age  Gender  Tenure  Usage Frequency  Support Calls  \\\n",
              "0         2.0  30.0  Female    39.0             14.0            5.0   \n",
              "1         3.0  65.0  Female    49.0              1.0           10.0   \n",
              "2         4.0  55.0  Female    14.0              4.0            6.0   \n",
              "3         5.0  58.0    Male    38.0             21.0            7.0   \n",
              "4         6.0  23.0    Male    32.0             20.0            5.0   \n",
              "\n",
              "   Payment Delay Subscription Type Contract Length  Total Spend  \\\n",
              "0           18.0          Standard          Annual        932.0   \n",
              "1            8.0             Basic         Monthly        557.0   \n",
              "2           18.0             Basic       Quarterly        185.0   \n",
              "3            7.0          Standard         Monthly        396.0   \n",
              "4            8.0             Basic         Monthly        617.0   \n",
              "\n",
              "   Last Interaction  Churn  \n",
              "0              17.0    1.0  \n",
              "1               6.0    1.0  \n",
              "2               3.0    1.0  \n",
              "3              29.0    1.0  \n",
              "4              20.0    1.0  "
            ],
            "text/html": [
              "\n",
              "  <div id=\"df-3109de41-ee43-4e2e-b794-26aabd84e2b1\" class=\"colab-df-container\">\n",
              "    <div>\n",
              "<style scoped>\n",
              "    .dataframe tbody tr th:only-of-type {\n",
              "        vertical-align: middle;\n",
              "    }\n",
              "\n",
              "    .dataframe tbody tr th {\n",
              "        vertical-align: top;\n",
              "    }\n",
              "\n",
              "    .dataframe thead th {\n",
              "        text-align: right;\n",
              "    }\n",
              "</style>\n",
              "<table border=\"1\" class=\"dataframe\">\n",
              "  <thead>\n",
              "    <tr style=\"text-align: right;\">\n",
              "      <th></th>\n",
              "      <th>CustomerID</th>\n",
              "      <th>Age</th>\n",
              "      <th>Gender</th>\n",
              "      <th>Tenure</th>\n",
              "      <th>Usage Frequency</th>\n",
              "      <th>Support Calls</th>\n",
              "      <th>Payment Delay</th>\n",
              "      <th>Subscription Type</th>\n",
              "      <th>Contract Length</th>\n",
              "      <th>Total Spend</th>\n",
              "      <th>Last Interaction</th>\n",
              "      <th>Churn</th>\n",
              "    </tr>\n",
              "  </thead>\n",
              "  <tbody>\n",
              "    <tr>\n",
              "      <th>0</th>\n",
              "      <td>2.0</td>\n",
              "      <td>30.0</td>\n",
              "      <td>Female</td>\n",
              "      <td>39.0</td>\n",
              "      <td>14.0</td>\n",
              "      <td>5.0</td>\n",
              "      <td>18.0</td>\n",
              "      <td>Standard</td>\n",
              "      <td>Annual</td>\n",
              "      <td>932.0</td>\n",
              "      <td>17.0</td>\n",
              "      <td>1.0</td>\n",
              "    </tr>\n",
              "    <tr>\n",
              "      <th>1</th>\n",
              "      <td>3.0</td>\n",
              "      <td>65.0</td>\n",
              "      <td>Female</td>\n",
              "      <td>49.0</td>\n",
              "      <td>1.0</td>\n",
              "      <td>10.0</td>\n",
              "      <td>8.0</td>\n",
              "      <td>Basic</td>\n",
              "      <td>Monthly</td>\n",
              "      <td>557.0</td>\n",
              "      <td>6.0</td>\n",
              "      <td>1.0</td>\n",
              "    </tr>\n",
              "    <tr>\n",
              "      <th>2</th>\n",
              "      <td>4.0</td>\n",
              "      <td>55.0</td>\n",
              "      <td>Female</td>\n",
              "      <td>14.0</td>\n",
              "      <td>4.0</td>\n",
              "      <td>6.0</td>\n",
              "      <td>18.0</td>\n",
              "      <td>Basic</td>\n",
              "      <td>Quarterly</td>\n",
              "      <td>185.0</td>\n",
              "      <td>3.0</td>\n",
              "      <td>1.0</td>\n",
              "    </tr>\n",
              "    <tr>\n",
              "      <th>3</th>\n",
              "      <td>5.0</td>\n",
              "      <td>58.0</td>\n",
              "      <td>Male</td>\n",
              "      <td>38.0</td>\n",
              "      <td>21.0</td>\n",
              "      <td>7.0</td>\n",
              "      <td>7.0</td>\n",
              "      <td>Standard</td>\n",
              "      <td>Monthly</td>\n",
              "      <td>396.0</td>\n",
              "      <td>29.0</td>\n",
              "      <td>1.0</td>\n",
              "    </tr>\n",
              "    <tr>\n",
              "      <th>4</th>\n",
              "      <td>6.0</td>\n",
              "      <td>23.0</td>\n",
              "      <td>Male</td>\n",
              "      <td>32.0</td>\n",
              "      <td>20.0</td>\n",
              "      <td>5.0</td>\n",
              "      <td>8.0</td>\n",
              "      <td>Basic</td>\n",
              "      <td>Monthly</td>\n",
              "      <td>617.0</td>\n",
              "      <td>20.0</td>\n",
              "      <td>1.0</td>\n",
              "    </tr>\n",
              "  </tbody>\n",
              "</table>\n",
              "</div>\n",
              "    <div class=\"colab-df-buttons\">\n",
              "\n",
              "  <div class=\"colab-df-container\">\n",
              "    <button class=\"colab-df-convert\" onclick=\"convertToInteractive('df-3109de41-ee43-4e2e-b794-26aabd84e2b1')\"\n",
              "            title=\"Convert this dataframe to an interactive table.\"\n",
              "            style=\"display:none;\">\n",
              "\n",
              "  <svg xmlns=\"http://www.w3.org/2000/svg\" height=\"24px\" viewBox=\"0 -960 960 960\">\n",
              "    <path d=\"M120-120v-720h720v720H120Zm60-500h600v-160H180v160Zm220 220h160v-160H400v160Zm0 220h160v-160H400v160ZM180-400h160v-160H180v160Zm440 0h160v-160H620v160ZM180-180h160v-160H180v160Zm440 0h160v-160H620v160Z\"/>\n",
              "  </svg>\n",
              "    </button>\n",
              "\n",
              "  <style>\n",
              "    .colab-df-container {\n",
              "      display:flex;\n",
              "      gap: 12px;\n",
              "    }\n",
              "\n",
              "    .colab-df-convert {\n",
              "      background-color: #E8F0FE;\n",
              "      border: none;\n",
              "      border-radius: 50%;\n",
              "      cursor: pointer;\n",
              "      display: none;\n",
              "      fill: #1967D2;\n",
              "      height: 32px;\n",
              "      padding: 0 0 0 0;\n",
              "      width: 32px;\n",
              "    }\n",
              "\n",
              "    .colab-df-convert:hover {\n",
              "      background-color: #E2EBFA;\n",
              "      box-shadow: 0px 1px 2px rgba(60, 64, 67, 0.3), 0px 1px 3px 1px rgba(60, 64, 67, 0.15);\n",
              "      fill: #174EA6;\n",
              "    }\n",
              "\n",
              "    .colab-df-buttons div {\n",
              "      margin-bottom: 4px;\n",
              "    }\n",
              "\n",
              "    [theme=dark] .colab-df-convert {\n",
              "      background-color: #3B4455;\n",
              "      fill: #D2E3FC;\n",
              "    }\n",
              "\n",
              "    [theme=dark] .colab-df-convert:hover {\n",
              "      background-color: #434B5C;\n",
              "      box-shadow: 0px 1px 3px 1px rgba(0, 0, 0, 0.15);\n",
              "      filter: drop-shadow(0px 1px 2px rgba(0, 0, 0, 0.3));\n",
              "      fill: #FFFFFF;\n",
              "    }\n",
              "  </style>\n",
              "\n",
              "    <script>\n",
              "      const buttonEl =\n",
              "        document.querySelector('#df-3109de41-ee43-4e2e-b794-26aabd84e2b1 button.colab-df-convert');\n",
              "      buttonEl.style.display =\n",
              "        google.colab.kernel.accessAllowed ? 'block' : 'none';\n",
              "\n",
              "      async function convertToInteractive(key) {\n",
              "        const element = document.querySelector('#df-3109de41-ee43-4e2e-b794-26aabd84e2b1');\n",
              "        const dataTable =\n",
              "          await google.colab.kernel.invokeFunction('convertToInteractive',\n",
              "                                                    [key], {});\n",
              "        if (!dataTable) return;\n",
              "\n",
              "        const docLinkHtml = 'Like what you see? Visit the ' +\n",
              "          '<a target=\"_blank\" href=https://colab.research.google.com/notebooks/data_table.ipynb>data table notebook</a>'\n",
              "          + ' to learn more about interactive tables.';\n",
              "        element.innerHTML = '';\n",
              "        dataTable['output_type'] = 'display_data';\n",
              "        await google.colab.output.renderOutput(dataTable, element);\n",
              "        const docLink = document.createElement('div');\n",
              "        docLink.innerHTML = docLinkHtml;\n",
              "        element.appendChild(docLink);\n",
              "      }\n",
              "    </script>\n",
              "  </div>\n",
              "\n",
              "\n",
              "<div id=\"df-160d23e4-5c20-4d3b-8a4f-9d3252cd42d0\">\n",
              "  <button class=\"colab-df-quickchart\" onclick=\"quickchart('df-160d23e4-5c20-4d3b-8a4f-9d3252cd42d0')\"\n",
              "            title=\"Suggest charts\"\n",
              "            style=\"display:none;\">\n",
              "\n",
              "<svg xmlns=\"http://www.w3.org/2000/svg\" height=\"24px\"viewBox=\"0 0 24 24\"\n",
              "     width=\"24px\">\n",
              "    <g>\n",
              "        <path d=\"M19 3H5c-1.1 0-2 .9-2 2v14c0 1.1.9 2 2 2h14c1.1 0 2-.9 2-2V5c0-1.1-.9-2-2-2zM9 17H7v-7h2v7zm4 0h-2V7h2v10zm4 0h-2v-4h2v4z\"/>\n",
              "    </g>\n",
              "</svg>\n",
              "  </button>\n",
              "\n",
              "<style>\n",
              "  .colab-df-quickchart {\n",
              "      --bg-color: #E8F0FE;\n",
              "      --fill-color: #1967D2;\n",
              "      --hover-bg-color: #E2EBFA;\n",
              "      --hover-fill-color: #174EA6;\n",
              "      --disabled-fill-color: #AAA;\n",
              "      --disabled-bg-color: #DDD;\n",
              "  }\n",
              "\n",
              "  [theme=dark] .colab-df-quickchart {\n",
              "      --bg-color: #3B4455;\n",
              "      --fill-color: #D2E3FC;\n",
              "      --hover-bg-color: #434B5C;\n",
              "      --hover-fill-color: #FFFFFF;\n",
              "      --disabled-bg-color: #3B4455;\n",
              "      --disabled-fill-color: #666;\n",
              "  }\n",
              "\n",
              "  .colab-df-quickchart {\n",
              "    background-color: var(--bg-color);\n",
              "    border: none;\n",
              "    border-radius: 50%;\n",
              "    cursor: pointer;\n",
              "    display: none;\n",
              "    fill: var(--fill-color);\n",
              "    height: 32px;\n",
              "    padding: 0;\n",
              "    width: 32px;\n",
              "  }\n",
              "\n",
              "  .colab-df-quickchart:hover {\n",
              "    background-color: var(--hover-bg-color);\n",
              "    box-shadow: 0 1px 2px rgba(60, 64, 67, 0.3), 0 1px 3px 1px rgba(60, 64, 67, 0.15);\n",
              "    fill: var(--button-hover-fill-color);\n",
              "  }\n",
              "\n",
              "  .colab-df-quickchart-complete:disabled,\n",
              "  .colab-df-quickchart-complete:disabled:hover {\n",
              "    background-color: var(--disabled-bg-color);\n",
              "    fill: var(--disabled-fill-color);\n",
              "    box-shadow: none;\n",
              "  }\n",
              "\n",
              "  .colab-df-spinner {\n",
              "    border: 2px solid var(--fill-color);\n",
              "    border-color: transparent;\n",
              "    border-bottom-color: var(--fill-color);\n",
              "    animation:\n",
              "      spin 1s steps(1) infinite;\n",
              "  }\n",
              "\n",
              "  @keyframes spin {\n",
              "    0% {\n",
              "      border-color: transparent;\n",
              "      border-bottom-color: var(--fill-color);\n",
              "      border-left-color: var(--fill-color);\n",
              "    }\n",
              "    20% {\n",
              "      border-color: transparent;\n",
              "      border-left-color: var(--fill-color);\n",
              "      border-top-color: var(--fill-color);\n",
              "    }\n",
              "    30% {\n",
              "      border-color: transparent;\n",
              "      border-left-color: var(--fill-color);\n",
              "      border-top-color: var(--fill-color);\n",
              "      border-right-color: var(--fill-color);\n",
              "    }\n",
              "    40% {\n",
              "      border-color: transparent;\n",
              "      border-right-color: var(--fill-color);\n",
              "      border-top-color: var(--fill-color);\n",
              "    }\n",
              "    60% {\n",
              "      border-color: transparent;\n",
              "      border-right-color: var(--fill-color);\n",
              "    }\n",
              "    80% {\n",
              "      border-color: transparent;\n",
              "      border-right-color: var(--fill-color);\n",
              "      border-bottom-color: var(--fill-color);\n",
              "    }\n",
              "    90% {\n",
              "      border-color: transparent;\n",
              "      border-bottom-color: var(--fill-color);\n",
              "    }\n",
              "  }\n",
              "</style>\n",
              "\n",
              "  <script>\n",
              "    async function quickchart(key) {\n",
              "      const quickchartButtonEl =\n",
              "        document.querySelector('#' + key + ' button');\n",
              "      quickchartButtonEl.disabled = true;  // To prevent multiple clicks.\n",
              "      quickchartButtonEl.classList.add('colab-df-spinner');\n",
              "      try {\n",
              "        const charts = await google.colab.kernel.invokeFunction(\n",
              "            'suggestCharts', [key], {});\n",
              "      } catch (error) {\n",
              "        console.error('Error during call to suggestCharts:', error);\n",
              "      }\n",
              "      quickchartButtonEl.classList.remove('colab-df-spinner');\n",
              "      quickchartButtonEl.classList.add('colab-df-quickchart-complete');\n",
              "    }\n",
              "    (() => {\n",
              "      let quickchartButtonEl =\n",
              "        document.querySelector('#df-160d23e4-5c20-4d3b-8a4f-9d3252cd42d0 button');\n",
              "      quickchartButtonEl.style.display =\n",
              "        google.colab.kernel.accessAllowed ? 'block' : 'none';\n",
              "    })();\n",
              "  </script>\n",
              "</div>\n",
              "\n",
              "    </div>\n",
              "  </div>\n"
            ],
            "application/vnd.google.colaboratory.intrinsic+json": {
              "type": "dataframe",
              "variable_name": "treino_df"
            }
          },
          "metadata": {},
          "execution_count": 27
        }
      ],
      "source": [
        "treino_df.head()"
      ]
    },
    {
      "cell_type": "code",
      "execution_count": 28,
      "id": "828d444c",
      "metadata": {
        "execution": {
          "iopub.execute_input": "2024-04-24T06:27:39.412653Z",
          "iopub.status.busy": "2024-04-24T06:27:39.411583Z",
          "iopub.status.idle": "2024-04-24T06:27:39.503497Z",
          "shell.execute_reply": "2024-04-24T06:27:39.502409Z"
        },
        "papermill": {
          "duration": 0.102804,
          "end_time": "2024-04-24T06:27:39.505798",
          "exception": false,
          "start_time": "2024-04-24T06:27:39.402994",
          "status": "completed"
        },
        "tags": [],
        "colab": {
          "base_uri": "https://localhost:8080/"
        },
        "id": "828d444c",
        "outputId": "b6e5a8dc-df3b-4544-aa2f-66c8a7d26c0d"
      },
      "outputs": [
        {
          "output_type": "stream",
          "name": "stdout",
          "text": [
            "<class 'pandas.core.frame.DataFrame'>\n",
            "RangeIndex: 440833 entries, 0 to 440832\n",
            "Data columns (total 12 columns):\n",
            " #   Column             Non-Null Count   Dtype  \n",
            "---  ------             --------------   -----  \n",
            " 0   CustomerID         440832 non-null  float64\n",
            " 1   Age                440832 non-null  float64\n",
            " 2   Gender             440832 non-null  object \n",
            " 3   Tenure             440832 non-null  float64\n",
            " 4   Usage Frequency    440832 non-null  float64\n",
            " 5   Support Calls      440832 non-null  float64\n",
            " 6   Payment Delay      440832 non-null  float64\n",
            " 7   Subscription Type  440832 non-null  object \n",
            " 8   Contract Length    440832 non-null  object \n",
            " 9   Total Spend        440832 non-null  float64\n",
            " 10  Last Interaction   440832 non-null  float64\n",
            " 11  Churn              440832 non-null  float64\n",
            "dtypes: float64(9), object(3)\n",
            "memory usage: 40.4+ MB\n"
          ]
        }
      ],
      "source": [
        "treino_df.info()"
      ]
    },
    {
      "cell_type": "code",
      "execution_count": 29,
      "id": "e1b7a0ba",
      "metadata": {
        "execution": {
          "iopub.execute_input": "2024-04-24T06:27:39.523754Z",
          "iopub.status.busy": "2024-04-24T06:27:39.522712Z",
          "iopub.status.idle": "2024-04-24T06:27:39.909194Z",
          "shell.execute_reply": "2024-04-24T06:27:39.908051Z"
        },
        "papermill": {
          "duration": 0.397868,
          "end_time": "2024-04-24T06:27:39.911709",
          "exception": false,
          "start_time": "2024-04-24T06:27:39.513841",
          "status": "completed"
        },
        "tags": [],
        "colab": {
          "base_uri": "https://localhost:8080/",
          "height": 431
        },
        "id": "e1b7a0ba",
        "outputId": "92f0f0a7-4c96-4965-b2e7-4fa17e91b158"
      },
      "outputs": [
        {
          "output_type": "execute_result",
          "data": {
            "text/plain": [
              "           CustomerID            Age  Gender         Tenure  Usage Frequency  \\\n",
              "count   440832.000000  440832.000000  440832  440832.000000    440832.000000   \n",
              "unique            NaN            NaN       2            NaN              NaN   \n",
              "top               NaN            NaN    Male            NaN              NaN   \n",
              "freq              NaN            NaN  250252            NaN              NaN   \n",
              "mean    225398.667955      39.373153     NaN      31.256336        15.807494   \n",
              "std     129531.918550      12.442369     NaN      17.255727         8.586242   \n",
              "min          2.000000      18.000000     NaN       1.000000         1.000000   \n",
              "25%     113621.750000      29.000000     NaN      16.000000         9.000000   \n",
              "50%     226125.500000      39.000000     NaN      32.000000        16.000000   \n",
              "75%     337739.250000      48.000000     NaN      46.000000        23.000000   \n",
              "max     449999.000000      65.000000     NaN      60.000000        30.000000   \n",
              "\n",
              "        Support Calls  Payment Delay Subscription Type Contract Length  \\\n",
              "count   440832.000000  440832.000000            440832          440832   \n",
              "unique            NaN            NaN                 3               3   \n",
              "top               NaN            NaN          Standard          Annual   \n",
              "freq              NaN            NaN            149128          177198   \n",
              "mean         3.604437      12.965722               NaN             NaN   \n",
              "std          3.070218       8.258063               NaN             NaN   \n",
              "min          0.000000       0.000000               NaN             NaN   \n",
              "25%          1.000000       6.000000               NaN             NaN   \n",
              "50%          3.000000      12.000000               NaN             NaN   \n",
              "75%          6.000000      19.000000               NaN             NaN   \n",
              "max         10.000000      30.000000               NaN             NaN   \n",
              "\n",
              "          Total Spend  Last Interaction          Churn  \n",
              "count   440832.000000     440832.000000  440832.000000  \n",
              "unique            NaN               NaN            NaN  \n",
              "top               NaN               NaN            NaN  \n",
              "freq              NaN               NaN            NaN  \n",
              "mean       631.616223         14.480868       0.567107  \n",
              "std        240.803001          8.596208       0.495477  \n",
              "min        100.000000          1.000000       0.000000  \n",
              "25%        480.000000          7.000000       0.000000  \n",
              "50%        661.000000         14.000000       1.000000  \n",
              "75%        830.000000         22.000000       1.000000  \n",
              "max       1000.000000         30.000000       1.000000  "
            ],
            "text/html": [
              "\n",
              "  <div id=\"df-10b7aad5-c616-4c1b-b2a6-4f8d3e0a88a8\" class=\"colab-df-container\">\n",
              "    <div>\n",
              "<style scoped>\n",
              "    .dataframe tbody tr th:only-of-type {\n",
              "        vertical-align: middle;\n",
              "    }\n",
              "\n",
              "    .dataframe tbody tr th {\n",
              "        vertical-align: top;\n",
              "    }\n",
              "\n",
              "    .dataframe thead th {\n",
              "        text-align: right;\n",
              "    }\n",
              "</style>\n",
              "<table border=\"1\" class=\"dataframe\">\n",
              "  <thead>\n",
              "    <tr style=\"text-align: right;\">\n",
              "      <th></th>\n",
              "      <th>CustomerID</th>\n",
              "      <th>Age</th>\n",
              "      <th>Gender</th>\n",
              "      <th>Tenure</th>\n",
              "      <th>Usage Frequency</th>\n",
              "      <th>Support Calls</th>\n",
              "      <th>Payment Delay</th>\n",
              "      <th>Subscription Type</th>\n",
              "      <th>Contract Length</th>\n",
              "      <th>Total Spend</th>\n",
              "      <th>Last Interaction</th>\n",
              "      <th>Churn</th>\n",
              "    </tr>\n",
              "  </thead>\n",
              "  <tbody>\n",
              "    <tr>\n",
              "      <th>count</th>\n",
              "      <td>440832.000000</td>\n",
              "      <td>440832.000000</td>\n",
              "      <td>440832</td>\n",
              "      <td>440832.000000</td>\n",
              "      <td>440832.000000</td>\n",
              "      <td>440832.000000</td>\n",
              "      <td>440832.000000</td>\n",
              "      <td>440832</td>\n",
              "      <td>440832</td>\n",
              "      <td>440832.000000</td>\n",
              "      <td>440832.000000</td>\n",
              "      <td>440832.000000</td>\n",
              "    </tr>\n",
              "    <tr>\n",
              "      <th>unique</th>\n",
              "      <td>NaN</td>\n",
              "      <td>NaN</td>\n",
              "      <td>2</td>\n",
              "      <td>NaN</td>\n",
              "      <td>NaN</td>\n",
              "      <td>NaN</td>\n",
              "      <td>NaN</td>\n",
              "      <td>3</td>\n",
              "      <td>3</td>\n",
              "      <td>NaN</td>\n",
              "      <td>NaN</td>\n",
              "      <td>NaN</td>\n",
              "    </tr>\n",
              "    <tr>\n",
              "      <th>top</th>\n",
              "      <td>NaN</td>\n",
              "      <td>NaN</td>\n",
              "      <td>Male</td>\n",
              "      <td>NaN</td>\n",
              "      <td>NaN</td>\n",
              "      <td>NaN</td>\n",
              "      <td>NaN</td>\n",
              "      <td>Standard</td>\n",
              "      <td>Annual</td>\n",
              "      <td>NaN</td>\n",
              "      <td>NaN</td>\n",
              "      <td>NaN</td>\n",
              "    </tr>\n",
              "    <tr>\n",
              "      <th>freq</th>\n",
              "      <td>NaN</td>\n",
              "      <td>NaN</td>\n",
              "      <td>250252</td>\n",
              "      <td>NaN</td>\n",
              "      <td>NaN</td>\n",
              "      <td>NaN</td>\n",
              "      <td>NaN</td>\n",
              "      <td>149128</td>\n",
              "      <td>177198</td>\n",
              "      <td>NaN</td>\n",
              "      <td>NaN</td>\n",
              "      <td>NaN</td>\n",
              "    </tr>\n",
              "    <tr>\n",
              "      <th>mean</th>\n",
              "      <td>225398.667955</td>\n",
              "      <td>39.373153</td>\n",
              "      <td>NaN</td>\n",
              "      <td>31.256336</td>\n",
              "      <td>15.807494</td>\n",
              "      <td>3.604437</td>\n",
              "      <td>12.965722</td>\n",
              "      <td>NaN</td>\n",
              "      <td>NaN</td>\n",
              "      <td>631.616223</td>\n",
              "      <td>14.480868</td>\n",
              "      <td>0.567107</td>\n",
              "    </tr>\n",
              "    <tr>\n",
              "      <th>std</th>\n",
              "      <td>129531.918550</td>\n",
              "      <td>12.442369</td>\n",
              "      <td>NaN</td>\n",
              "      <td>17.255727</td>\n",
              "      <td>8.586242</td>\n",
              "      <td>3.070218</td>\n",
              "      <td>8.258063</td>\n",
              "      <td>NaN</td>\n",
              "      <td>NaN</td>\n",
              "      <td>240.803001</td>\n",
              "      <td>8.596208</td>\n",
              "      <td>0.495477</td>\n",
              "    </tr>\n",
              "    <tr>\n",
              "      <th>min</th>\n",
              "      <td>2.000000</td>\n",
              "      <td>18.000000</td>\n",
              "      <td>NaN</td>\n",
              "      <td>1.000000</td>\n",
              "      <td>1.000000</td>\n",
              "      <td>0.000000</td>\n",
              "      <td>0.000000</td>\n",
              "      <td>NaN</td>\n",
              "      <td>NaN</td>\n",
              "      <td>100.000000</td>\n",
              "      <td>1.000000</td>\n",
              "      <td>0.000000</td>\n",
              "    </tr>\n",
              "    <tr>\n",
              "      <th>25%</th>\n",
              "      <td>113621.750000</td>\n",
              "      <td>29.000000</td>\n",
              "      <td>NaN</td>\n",
              "      <td>16.000000</td>\n",
              "      <td>9.000000</td>\n",
              "      <td>1.000000</td>\n",
              "      <td>6.000000</td>\n",
              "      <td>NaN</td>\n",
              "      <td>NaN</td>\n",
              "      <td>480.000000</td>\n",
              "      <td>7.000000</td>\n",
              "      <td>0.000000</td>\n",
              "    </tr>\n",
              "    <tr>\n",
              "      <th>50%</th>\n",
              "      <td>226125.500000</td>\n",
              "      <td>39.000000</td>\n",
              "      <td>NaN</td>\n",
              "      <td>32.000000</td>\n",
              "      <td>16.000000</td>\n",
              "      <td>3.000000</td>\n",
              "      <td>12.000000</td>\n",
              "      <td>NaN</td>\n",
              "      <td>NaN</td>\n",
              "      <td>661.000000</td>\n",
              "      <td>14.000000</td>\n",
              "      <td>1.000000</td>\n",
              "    </tr>\n",
              "    <tr>\n",
              "      <th>75%</th>\n",
              "      <td>337739.250000</td>\n",
              "      <td>48.000000</td>\n",
              "      <td>NaN</td>\n",
              "      <td>46.000000</td>\n",
              "      <td>23.000000</td>\n",
              "      <td>6.000000</td>\n",
              "      <td>19.000000</td>\n",
              "      <td>NaN</td>\n",
              "      <td>NaN</td>\n",
              "      <td>830.000000</td>\n",
              "      <td>22.000000</td>\n",
              "      <td>1.000000</td>\n",
              "    </tr>\n",
              "    <tr>\n",
              "      <th>max</th>\n",
              "      <td>449999.000000</td>\n",
              "      <td>65.000000</td>\n",
              "      <td>NaN</td>\n",
              "      <td>60.000000</td>\n",
              "      <td>30.000000</td>\n",
              "      <td>10.000000</td>\n",
              "      <td>30.000000</td>\n",
              "      <td>NaN</td>\n",
              "      <td>NaN</td>\n",
              "      <td>1000.000000</td>\n",
              "      <td>30.000000</td>\n",
              "      <td>1.000000</td>\n",
              "    </tr>\n",
              "  </tbody>\n",
              "</table>\n",
              "</div>\n",
              "    <div class=\"colab-df-buttons\">\n",
              "\n",
              "  <div class=\"colab-df-container\">\n",
              "    <button class=\"colab-df-convert\" onclick=\"convertToInteractive('df-10b7aad5-c616-4c1b-b2a6-4f8d3e0a88a8')\"\n",
              "            title=\"Convert this dataframe to an interactive table.\"\n",
              "            style=\"display:none;\">\n",
              "\n",
              "  <svg xmlns=\"http://www.w3.org/2000/svg\" height=\"24px\" viewBox=\"0 -960 960 960\">\n",
              "    <path d=\"M120-120v-720h720v720H120Zm60-500h600v-160H180v160Zm220 220h160v-160H400v160Zm0 220h160v-160H400v160ZM180-400h160v-160H180v160Zm440 0h160v-160H620v160ZM180-180h160v-160H180v160Zm440 0h160v-160H620v160Z\"/>\n",
              "  </svg>\n",
              "    </button>\n",
              "\n",
              "  <style>\n",
              "    .colab-df-container {\n",
              "      display:flex;\n",
              "      gap: 12px;\n",
              "    }\n",
              "\n",
              "    .colab-df-convert {\n",
              "      background-color: #E8F0FE;\n",
              "      border: none;\n",
              "      border-radius: 50%;\n",
              "      cursor: pointer;\n",
              "      display: none;\n",
              "      fill: #1967D2;\n",
              "      height: 32px;\n",
              "      padding: 0 0 0 0;\n",
              "      width: 32px;\n",
              "    }\n",
              "\n",
              "    .colab-df-convert:hover {\n",
              "      background-color: #E2EBFA;\n",
              "      box-shadow: 0px 1px 2px rgba(60, 64, 67, 0.3), 0px 1px 3px 1px rgba(60, 64, 67, 0.15);\n",
              "      fill: #174EA6;\n",
              "    }\n",
              "\n",
              "    .colab-df-buttons div {\n",
              "      margin-bottom: 4px;\n",
              "    }\n",
              "\n",
              "    [theme=dark] .colab-df-convert {\n",
              "      background-color: #3B4455;\n",
              "      fill: #D2E3FC;\n",
              "    }\n",
              "\n",
              "    [theme=dark] .colab-df-convert:hover {\n",
              "      background-color: #434B5C;\n",
              "      box-shadow: 0px 1px 3px 1px rgba(0, 0, 0, 0.15);\n",
              "      filter: drop-shadow(0px 1px 2px rgba(0, 0, 0, 0.3));\n",
              "      fill: #FFFFFF;\n",
              "    }\n",
              "  </style>\n",
              "\n",
              "    <script>\n",
              "      const buttonEl =\n",
              "        document.querySelector('#df-10b7aad5-c616-4c1b-b2a6-4f8d3e0a88a8 button.colab-df-convert');\n",
              "      buttonEl.style.display =\n",
              "        google.colab.kernel.accessAllowed ? 'block' : 'none';\n",
              "\n",
              "      async function convertToInteractive(key) {\n",
              "        const element = document.querySelector('#df-10b7aad5-c616-4c1b-b2a6-4f8d3e0a88a8');\n",
              "        const dataTable =\n",
              "          await google.colab.kernel.invokeFunction('convertToInteractive',\n",
              "                                                    [key], {});\n",
              "        if (!dataTable) return;\n",
              "\n",
              "        const docLinkHtml = 'Like what you see? Visit the ' +\n",
              "          '<a target=\"_blank\" href=https://colab.research.google.com/notebooks/data_table.ipynb>data table notebook</a>'\n",
              "          + ' to learn more about interactive tables.';\n",
              "        element.innerHTML = '';\n",
              "        dataTable['output_type'] = 'display_data';\n",
              "        await google.colab.output.renderOutput(dataTable, element);\n",
              "        const docLink = document.createElement('div');\n",
              "        docLink.innerHTML = docLinkHtml;\n",
              "        element.appendChild(docLink);\n",
              "      }\n",
              "    </script>\n",
              "  </div>\n",
              "\n",
              "\n",
              "<div id=\"df-ea148492-f6d1-4780-bf77-6e9807ae22ee\">\n",
              "  <button class=\"colab-df-quickchart\" onclick=\"quickchart('df-ea148492-f6d1-4780-bf77-6e9807ae22ee')\"\n",
              "            title=\"Suggest charts\"\n",
              "            style=\"display:none;\">\n",
              "\n",
              "<svg xmlns=\"http://www.w3.org/2000/svg\" height=\"24px\"viewBox=\"0 0 24 24\"\n",
              "     width=\"24px\">\n",
              "    <g>\n",
              "        <path d=\"M19 3H5c-1.1 0-2 .9-2 2v14c0 1.1.9 2 2 2h14c1.1 0 2-.9 2-2V5c0-1.1-.9-2-2-2zM9 17H7v-7h2v7zm4 0h-2V7h2v10zm4 0h-2v-4h2v4z\"/>\n",
              "    </g>\n",
              "</svg>\n",
              "  </button>\n",
              "\n",
              "<style>\n",
              "  .colab-df-quickchart {\n",
              "      --bg-color: #E8F0FE;\n",
              "      --fill-color: #1967D2;\n",
              "      --hover-bg-color: #E2EBFA;\n",
              "      --hover-fill-color: #174EA6;\n",
              "      --disabled-fill-color: #AAA;\n",
              "      --disabled-bg-color: #DDD;\n",
              "  }\n",
              "\n",
              "  [theme=dark] .colab-df-quickchart {\n",
              "      --bg-color: #3B4455;\n",
              "      --fill-color: #D2E3FC;\n",
              "      --hover-bg-color: #434B5C;\n",
              "      --hover-fill-color: #FFFFFF;\n",
              "      --disabled-bg-color: #3B4455;\n",
              "      --disabled-fill-color: #666;\n",
              "  }\n",
              "\n",
              "  .colab-df-quickchart {\n",
              "    background-color: var(--bg-color);\n",
              "    border: none;\n",
              "    border-radius: 50%;\n",
              "    cursor: pointer;\n",
              "    display: none;\n",
              "    fill: var(--fill-color);\n",
              "    height: 32px;\n",
              "    padding: 0;\n",
              "    width: 32px;\n",
              "  }\n",
              "\n",
              "  .colab-df-quickchart:hover {\n",
              "    background-color: var(--hover-bg-color);\n",
              "    box-shadow: 0 1px 2px rgba(60, 64, 67, 0.3), 0 1px 3px 1px rgba(60, 64, 67, 0.15);\n",
              "    fill: var(--button-hover-fill-color);\n",
              "  }\n",
              "\n",
              "  .colab-df-quickchart-complete:disabled,\n",
              "  .colab-df-quickchart-complete:disabled:hover {\n",
              "    background-color: var(--disabled-bg-color);\n",
              "    fill: var(--disabled-fill-color);\n",
              "    box-shadow: none;\n",
              "  }\n",
              "\n",
              "  .colab-df-spinner {\n",
              "    border: 2px solid var(--fill-color);\n",
              "    border-color: transparent;\n",
              "    border-bottom-color: var(--fill-color);\n",
              "    animation:\n",
              "      spin 1s steps(1) infinite;\n",
              "  }\n",
              "\n",
              "  @keyframes spin {\n",
              "    0% {\n",
              "      border-color: transparent;\n",
              "      border-bottom-color: var(--fill-color);\n",
              "      border-left-color: var(--fill-color);\n",
              "    }\n",
              "    20% {\n",
              "      border-color: transparent;\n",
              "      border-left-color: var(--fill-color);\n",
              "      border-top-color: var(--fill-color);\n",
              "    }\n",
              "    30% {\n",
              "      border-color: transparent;\n",
              "      border-left-color: var(--fill-color);\n",
              "      border-top-color: var(--fill-color);\n",
              "      border-right-color: var(--fill-color);\n",
              "    }\n",
              "    40% {\n",
              "      border-color: transparent;\n",
              "      border-right-color: var(--fill-color);\n",
              "      border-top-color: var(--fill-color);\n",
              "    }\n",
              "    60% {\n",
              "      border-color: transparent;\n",
              "      border-right-color: var(--fill-color);\n",
              "    }\n",
              "    80% {\n",
              "      border-color: transparent;\n",
              "      border-right-color: var(--fill-color);\n",
              "      border-bottom-color: var(--fill-color);\n",
              "    }\n",
              "    90% {\n",
              "      border-color: transparent;\n",
              "      border-bottom-color: var(--fill-color);\n",
              "    }\n",
              "  }\n",
              "</style>\n",
              "\n",
              "  <script>\n",
              "    async function quickchart(key) {\n",
              "      const quickchartButtonEl =\n",
              "        document.querySelector('#' + key + ' button');\n",
              "      quickchartButtonEl.disabled = true;  // To prevent multiple clicks.\n",
              "      quickchartButtonEl.classList.add('colab-df-spinner');\n",
              "      try {\n",
              "        const charts = await google.colab.kernel.invokeFunction(\n",
              "            'suggestCharts', [key], {});\n",
              "      } catch (error) {\n",
              "        console.error('Error during call to suggestCharts:', error);\n",
              "      }\n",
              "      quickchartButtonEl.classList.remove('colab-df-spinner');\n",
              "      quickchartButtonEl.classList.add('colab-df-quickchart-complete');\n",
              "    }\n",
              "    (() => {\n",
              "      let quickchartButtonEl =\n",
              "        document.querySelector('#df-ea148492-f6d1-4780-bf77-6e9807ae22ee button');\n",
              "      quickchartButtonEl.style.display =\n",
              "        google.colab.kernel.accessAllowed ? 'block' : 'none';\n",
              "    })();\n",
              "  </script>\n",
              "</div>\n",
              "\n",
              "    </div>\n",
              "  </div>\n"
            ],
            "application/vnd.google.colaboratory.intrinsic+json": {
              "type": "dataframe",
              "summary": "{\n  \"name\": \"treino_df\",\n  \"rows\": 11,\n  \"fields\": [\n    {\n      \"column\": \"CustomerID\",\n      \"properties\": {\n        \"dtype\": \"number\",\n        \"std\": 160429.83004457437,\n        \"min\": 2.0,\n        \"max\": 449999.0,\n        \"num_unique_values\": 8,\n        \"samples\": [\n          225398.66795513936,\n          226125.5,\n          440832.0\n        ],\n        \"semantic_type\": \"\",\n        \"description\": \"\"\n      }\n    },\n    {\n      \"column\": \"Age\",\n      \"properties\": {\n        \"dtype\": \"number\",\n        \"std\": 155844.98107109405,\n        \"min\": 12.442369490866385,\n        \"max\": 440832.0,\n        \"num_unique_values\": 8,\n        \"samples\": [\n          39.37315349157956,\n          39.0,\n          440832.0\n        ],\n        \"semantic_type\": \"\",\n        \"description\": \"\"\n      }\n    },\n    {\n      \"column\": \"Gender\",\n      \"properties\": {\n        \"dtype\": \"category\",\n        \"num_unique_values\": 4,\n        \"samples\": [\n          2,\n          \"250252\",\n          \"440832\"\n        ],\n        \"semantic_type\": \"\",\n        \"description\": \"\"\n      }\n    },\n    {\n      \"column\": \"Tenure\",\n      \"properties\": {\n        \"dtype\": \"number\",\n        \"std\": 155847.37044993733,\n        \"min\": 1.0,\n        \"max\": 440832.0,\n        \"num_unique_values\": 8,\n        \"samples\": [\n          31.25633574695122,\n          32.0,\n          440832.0\n        ],\n        \"semantic_type\": \"\",\n        \"description\": \"\"\n      }\n    },\n    {\n      \"column\": \"Usage Frequency\",\n      \"properties\": {\n        \"dtype\": \"number\",\n        \"std\": 155852.42636799914,\n        \"min\": 1.0,\n        \"max\": 440832.0,\n        \"num_unique_values\": 8,\n        \"samples\": [\n          15.80749355763647,\n          16.0,\n          440832.0\n        ],\n        \"semantic_type\": \"\",\n        \"description\": \"\"\n      }\n    },\n    {\n      \"column\": \"Support Calls\",\n      \"properties\": {\n        \"dtype\": \"number\",\n        \"std\": 155856.30103910927,\n        \"min\": 0.0,\n        \"max\": 440832.0,\n        \"num_unique_values\": 8,\n        \"samples\": [\n          3.6044366107723578,\n          3.0,\n          440832.0\n        ],\n        \"semantic_type\": \"\",\n        \"description\": \"\"\n      }\n    },\n    {\n      \"column\": \"Payment Delay\",\n      \"properties\": {\n        \"dtype\": \"number\",\n        \"std\": 155853.19256713171,\n        \"min\": 0.0,\n        \"max\": 440832.0,\n        \"num_unique_values\": 8,\n        \"samples\": [\n          12.965721635452962,\n          12.0,\n          440832.0\n        ],\n        \"semantic_type\": \"\",\n        \"description\": \"\"\n      }\n    },\n    {\n      \"column\": \"Subscription Type\",\n      \"properties\": {\n        \"dtype\": \"category\",\n        \"num_unique_values\": 4,\n        \"samples\": [\n          3,\n          \"149128\",\n          \"440832\"\n        ],\n        \"semantic_type\": \"\",\n        \"description\": \"\"\n      }\n    },\n    {\n      \"column\": \"Contract Length\",\n      \"properties\": {\n        \"dtype\": \"category\",\n        \"num_unique_values\": 4,\n        \"samples\": [\n          3,\n          \"177198\",\n          \"440832\"\n        ],\n        \"semantic_type\": \"\",\n        \"description\": \"\"\n      }\n    },\n    {\n      \"column\": \"Total Spend\",\n      \"properties\": {\n        \"dtype\": \"number\",\n        \"std\": 155658.75161340856,\n        \"min\": 100.0,\n        \"max\": 440832.0,\n        \"num_unique_values\": 8,\n        \"samples\": [\n          631.6162227787456,\n          661.0,\n          440832.0\n        ],\n        \"semantic_type\": \"\",\n        \"description\": \"\"\n      }\n    },\n    {\n      \"column\": \"Last Interaction\",\n      \"properties\": {\n        \"dtype\": \"number\",\n        \"std\": 155852.74540926635,\n        \"min\": 1.0,\n        \"max\": 440832.0,\n        \"num_unique_values\": 8,\n        \"samples\": [\n          14.480867995063878,\n          14.0,\n          440832.0\n        ],\n        \"semantic_type\": \"\",\n        \"description\": \"\"\n      }\n    },\n    {\n      \"column\": \"Churn\",\n      \"properties\": {\n        \"dtype\": \"number\",\n        \"std\": 155857.44309109414,\n        \"min\": 0.0,\n        \"max\": 440832.0,\n        \"num_unique_values\": 5,\n        \"samples\": [\n          0.5671071972996515,\n          1.0,\n          0.4954767209121152\n        ],\n        \"semantic_type\": \"\",\n        \"description\": \"\"\n      }\n    }\n  ]\n}"
            }
          },
          "metadata": {},
          "execution_count": 29
        }
      ],
      "source": [
        "treino_df.describe(include='all')"
      ]
    },
    {
      "cell_type": "code",
      "execution_count": 30,
      "id": "6b213bef",
      "metadata": {
        "execution": {
          "iopub.execute_input": "2024-04-24T06:27:39.930389Z",
          "iopub.status.busy": "2024-04-24T06:27:39.930004Z",
          "iopub.status.idle": "2024-04-24T06:27:40.002887Z",
          "shell.execute_reply": "2024-04-24T06:27:40.001798Z"
        },
        "papermill": {
          "duration": 0.084416,
          "end_time": "2024-04-24T06:27:40.005089",
          "exception": false,
          "start_time": "2024-04-24T06:27:39.920673",
          "status": "completed"
        },
        "tags": [],
        "colab": {
          "base_uri": "https://localhost:8080/"
        },
        "id": "6b213bef",
        "outputId": "14f5f67e-9209-412b-a525-9c9748aa27af"
      },
      "outputs": [
        {
          "output_type": "stream",
          "name": "stdout",
          "text": [
            "CustomerID           1\n",
            "Age                  1\n",
            "Gender               1\n",
            "Tenure               1\n",
            "Usage Frequency      1\n",
            "Support Calls        1\n",
            "Payment Delay        1\n",
            "Subscription Type    1\n",
            "Contract Length      1\n",
            "Total Spend          1\n",
            "Last Interaction     1\n",
            "Churn                1\n",
            "dtype: int64\n"
          ]
        }
      ],
      "source": [
        "# Verificando se há valores nulos\n",
        "print(treino_df.isna().sum())"
      ]
    },
    {
      "cell_type": "code",
      "execution_count": 31,
      "id": "bbc33d69",
      "metadata": {
        "execution": {
          "iopub.execute_input": "2024-04-24T06:27:40.022834Z",
          "iopub.status.busy": "2024-04-24T06:27:40.022217Z",
          "iopub.status.idle": "2024-04-24T06:27:40.348442Z",
          "shell.execute_reply": "2024-04-24T06:27:40.347201Z"
        },
        "papermill": {
          "duration": 0.337324,
          "end_time": "2024-04-24T06:27:40.350420",
          "exception": false,
          "start_time": "2024-04-24T06:27:40.013096",
          "status": "completed"
        },
        "tags": [],
        "colab": {
          "base_uri": "https://localhost:8080/"
        },
        "id": "bbc33d69",
        "outputId": "bf90033a-9370-4bd6-8884-28ae60df1099"
      },
      "outputs": [
        {
          "output_type": "execute_result",
          "data": {
            "text/plain": [
              "0"
            ]
          },
          "metadata": {},
          "execution_count": 31
        }
      ],
      "source": [
        "# Verificando se há duplicatas\n",
        "treino_df.duplicated().sum()"
      ]
    },
    {
      "cell_type": "code",
      "execution_count": 9,
      "id": "0069b9b7",
      "metadata": {
        "execution": {
          "iopub.execute_input": "2024-04-24T06:27:40.368563Z",
          "iopub.status.busy": "2024-04-24T06:27:40.367997Z",
          "iopub.status.idle": "2024-04-24T06:27:40.478773Z",
          "shell.execute_reply": "2024-04-24T06:27:40.477647Z"
        },
        "papermill": {
          "duration": 0.122786,
          "end_time": "2024-04-24T06:27:40.481369",
          "exception": false,
          "start_time": "2024-04-24T06:27:40.358583",
          "status": "completed"
        },
        "tags": [],
        "colab": {
          "base_uri": "https://localhost:8080/"
        },
        "id": "0069b9b7",
        "outputId": "b6a02474-1ebf-4f50-f27a-d03c2e261166"
      },
      "outputs": [
        {
          "output_type": "stream",
          "name": "stdout",
          "text": [
            "CustomerID\n",
            "2.0         1\n",
            "301011.0    1\n",
            "301009.0    1\n",
            "301008.0    1\n",
            "301007.0    1\n",
            "301006.0    1\n",
            "301005.0    1\n",
            "301004.0    1\n",
            "301003.0    1\n",
            "301002.0    1\n",
            "Name: count, dtype: int64\n"
          ]
        }
      ],
      "source": [
        "# Verificando se cada cliente possui apenas uma linha de dados.\n",
        "print(treino_df['CustomerID'].value_counts().head(10))"
      ]
    },
    {
      "cell_type": "markdown",
      "source": [
        "> Já que a coluna CustomersID é um identificador único para cada cliente e não tem relação direta com o comportamento do mesmo, iremos remove-la. Aproveitaremos para remover todos os valores nulos."
      ],
      "metadata": {
        "id": "_E6wbKzMah37"
      },
      "id": "_E6wbKzMah37"
    },
    {
      "cell_type": "code",
      "execution_count": 32,
      "id": "72ad05f4",
      "metadata": {
        "execution": {
          "iopub.execute_input": "2024-04-24T06:27:40.499999Z",
          "iopub.status.busy": "2024-04-24T06:27:40.499639Z",
          "iopub.status.idle": "2024-04-24T06:27:40.700453Z",
          "shell.execute_reply": "2024-04-24T06:27:40.699192Z"
        },
        "papermill": {
          "duration": 0.213483,
          "end_time": "2024-04-24T06:27:40.703076",
          "exception": false,
          "start_time": "2024-04-24T06:27:40.489593",
          "status": "completed"
        },
        "tags": [],
        "id": "72ad05f4"
      },
      "outputs": [],
      "source": [
        "# Removendo a coluna CustomersID e valores nulos\n",
        "treino = treino_df.drop(columns=['CustomerID']).copy()\n",
        "treino = treino.dropna().copy()\n",
        "teste = teste_df.drop(columns=['CustomerID']).copy()\n",
        "teste = teste.dropna().copy()"
      ]
    },
    {
      "cell_type": "code",
      "execution_count": 33,
      "id": "e35e2791",
      "metadata": {
        "execution": {
          "iopub.execute_input": "2024-04-24T06:27:40.721934Z",
          "iopub.status.busy": "2024-04-24T06:27:40.721580Z",
          "iopub.status.idle": "2024-04-24T06:27:40.744183Z",
          "shell.execute_reply": "2024-04-24T06:27:40.743210Z"
        },
        "papermill": {
          "duration": 0.034833,
          "end_time": "2024-04-24T06:27:40.746667",
          "exception": false,
          "start_time": "2024-04-24T06:27:40.711834",
          "status": "completed"
        },
        "tags": [],
        "id": "e35e2791"
      },
      "outputs": [],
      "source": [
        "# Separando as colunas categóricas e numéricas\n",
        "col_categoricas = treino.select_dtypes(include='object').columns.to_list()\n",
        "col_numericas = treino.select_dtypes(include='number').columns.to_list()"
      ]
    },
    {
      "cell_type": "code",
      "execution_count": 34,
      "id": "1e324c90",
      "metadata": {
        "execution": {
          "iopub.execute_input": "2024-04-24T06:27:40.765864Z",
          "iopub.status.busy": "2024-04-24T06:27:40.765496Z",
          "iopub.status.idle": "2024-04-24T06:27:40.938540Z",
          "shell.execute_reply": "2024-04-24T06:27:40.937124Z"
        },
        "papermill": {
          "duration": 0.185811,
          "end_time": "2024-04-24T06:27:40.941493",
          "exception": false,
          "start_time": "2024-04-24T06:27:40.755682",
          "status": "completed"
        },
        "tags": [],
        "colab": {
          "base_uri": "https://localhost:8080/"
        },
        "id": "1e324c90",
        "outputId": "5531dfe8-8d54-48b1-bf1e-385919a3d816"
      },
      "outputs": [
        {
          "output_type": "stream",
          "name": "stdout",
          "text": [
            "Gender\n",
            "Únicas: 2\n",
            "Top 10 valores únicos: ['Female' 'Male']\n",
            "===============\n",
            "Subscription Type\n",
            "Únicas: 3\n",
            "Top 10 valores únicos: ['Basic' 'Standard' 'Premium']\n",
            "===============\n",
            "Contract Length\n",
            "Únicas: 3\n",
            "Top 10 valores únicos: ['Monthly' 'Annual' 'Quarterly']\n",
            "===============\n"
          ]
        }
      ],
      "source": [
        "# checking for unique values in categorical columns\n",
        "for col in col_categoricas:\n",
        "    print(f'{col}')\n",
        "    print(f'Únicas: {treino[col].nunique()}')\n",
        "    print(f'Top 10 valores únicos: {train[col].unique()[:10]}')\n",
        "    print(\"=\"*15)"
      ]
    },
    {
      "cell_type": "markdown",
      "source": [
        "> Agora precisavos ver se os dados da variável alvo não estão desbalanceados."
      ],
      "metadata": {
        "id": "Yst7D6u0y9ij"
      },
      "id": "Yst7D6u0y9ij"
    },
    {
      "cell_type": "code",
      "execution_count": 35,
      "id": "ccc53b5a",
      "metadata": {
        "execution": {
          "iopub.execute_input": "2024-04-24T06:27:40.961737Z",
          "iopub.status.busy": "2024-04-24T06:27:40.961378Z",
          "iopub.status.idle": "2024-04-24T06:27:40.976058Z",
          "shell.execute_reply": "2024-04-24T06:27:40.974821Z"
        },
        "papermill": {
          "duration": 0.026621,
          "end_time": "2024-04-24T06:27:40.978255",
          "exception": false,
          "start_time": "2024-04-24T06:27:40.951634",
          "status": "completed"
        },
        "tags": [],
        "colab": {
          "base_uri": "https://localhost:8080/",
          "height": 178
        },
        "id": "ccc53b5a",
        "outputId": "2b2dfaef-a6cd-422c-c448-f3ce37dfff08"
      },
      "outputs": [
        {
          "output_type": "execute_result",
          "data": {
            "text/plain": [
              "Churn\n",
              "1.0    0.567107\n",
              "0.0    0.432893\n",
              "Name: proportion, dtype: float64"
            ],
            "text/html": [
              "<div>\n",
              "<style scoped>\n",
              "    .dataframe tbody tr th:only-of-type {\n",
              "        vertical-align: middle;\n",
              "    }\n",
              "\n",
              "    .dataframe tbody tr th {\n",
              "        vertical-align: top;\n",
              "    }\n",
              "\n",
              "    .dataframe thead th {\n",
              "        text-align: right;\n",
              "    }\n",
              "</style>\n",
              "<table border=\"1\" class=\"dataframe\">\n",
              "  <thead>\n",
              "    <tr style=\"text-align: right;\">\n",
              "      <th></th>\n",
              "      <th>proportion</th>\n",
              "    </tr>\n",
              "    <tr>\n",
              "      <th>Churn</th>\n",
              "      <th></th>\n",
              "    </tr>\n",
              "  </thead>\n",
              "  <tbody>\n",
              "    <tr>\n",
              "      <th>1.0</th>\n",
              "      <td>0.567107</td>\n",
              "    </tr>\n",
              "    <tr>\n",
              "      <th>0.0</th>\n",
              "      <td>0.432893</td>\n",
              "    </tr>\n",
              "  </tbody>\n",
              "</table>\n",
              "</div><br><label><b>dtype:</b> float64</label>"
            ]
          },
          "metadata": {},
          "execution_count": 35
        }
      ],
      "source": [
        "# Verificando a proporção da variável alvo do dataset. Quantos clientes cancelaram (1) e quantos permaneceram (0).\n",
        "treino['Churn'].value_counts(normalize=True)"
      ]
    },
    {
      "cell_type": "code",
      "execution_count": 36,
      "id": "399cf486",
      "metadata": {
        "execution": {
          "iopub.execute_input": "2024-04-24T06:27:40.998667Z",
          "iopub.status.busy": "2024-04-24T06:27:40.997845Z",
          "iopub.status.idle": "2024-04-24T06:27:42.734281Z",
          "shell.execute_reply": "2024-04-24T06:27:42.733115Z"
        },
        "papermill": {
          "duration": 1.749549,
          "end_time": "2024-04-24T06:27:42.737041",
          "exception": false,
          "start_time": "2024-04-24T06:27:40.987492",
          "status": "completed"
        },
        "tags": [],
        "colab": {
          "base_uri": "https://localhost:8080/",
          "height": 569
        },
        "id": "399cf486",
        "outputId": "b179c3d3-1cde-49bd-c289-4448b34a4497"
      },
      "outputs": [
        {
          "output_type": "display_data",
          "data": {
            "text/plain": [
              "<Figure size 1200x600 with 4 Axes>"
            ],
            "image/png": "[encoded data removed]"
          },
          "metadata": {}
        }
      ],
      "source": [
        "# Plotando variáveis ​​categóricas em relação à variável alvo\n",
        "fig, axes = plt.subplots(len(col_categoricas)//2+len(col_categoricas)%2, 2, figsize=(12, 6 * (len(col_categoricas)//2)))\n",
        "\n",
        "for i, col in enumerate(col_categoricas):\n",
        "    sns.countplot(x=col, data=treino, hue='Churn', ax=axes[i//2, i%2])\n",
        "    axes[i//2, i%2].set_xlabel(col)\n",
        "    axes[i//2, i%2].set_ylabel('Count')\n",
        "    axes[i//2, i%2].legend(title='Churn')\n",
        "\n",
        "plt.tight_layout()\n",
        "plt.show()\n",
        "\n"
      ]
    },
    {
      "cell_type": "markdown",
      "source": [
        "> Parece que há um desvio significativo no dataset. Vamos mesclar o conjunto de dados para remover o desvio e executar a divisão no conjunto de dados mesclado."
      ],
      "metadata": {
        "id": "EL-E0O891VRf"
      },
      "id": "EL-E0O891VRf"
    },
    {
      "cell_type": "markdown",
      "id": "4869c8c4",
      "metadata": {
        "papermill": {
          "duration": 0.014719,
          "end_time": "2024-04-24T06:28:05.032040",
          "exception": false,
          "start_time": "2024-04-24T06:28:05.017321",
          "status": "completed"
        },
        "tags": [],
        "id": "4869c8c4"
      },
      "source": [
        "## Modelagem"
      ]
    },
    {
      "cell_type": "code",
      "execution_count": 39,
      "id": "e521def2",
      "metadata": {
        "execution": {
          "iopub.execute_input": "2024-04-24T06:28:05.065429Z",
          "iopub.status.busy": "2024-04-24T06:28:05.065025Z",
          "iopub.status.idle": "2024-04-24T06:28:07.427530Z",
          "shell.execute_reply": "2024-04-24T06:28:07.426361Z"
        },
        "papermill": {
          "duration": 2.382657,
          "end_time": "2024-04-24T06:28:07.430032",
          "exception": false,
          "start_time": "2024-04-24T06:28:05.047375",
          "status": "completed"
        },
        "tags": [],
        "id": "e521def2"
      },
      "outputs": [],
      "source": [
        "# Criando os conjuntos de dados de treino e teste a partir dos dados mesclados.\n",
        "dados_brutos = pd.concat([treino, teste], axis=0, ignore_index=True)\n",
        "treino, teste = train_test_split(dados_brutos, test_size=0.2, random_state=42, stratify=dados_brutos['Churn'])\n",
        "\n",
        "# Separando as variáveis X e Y\n",
        "xtreino = treino.drop(columns=['Churn']).copy()\n",
        "ytreino = treino[['Churn']].copy()\n",
        "xteste = teste.drop(columns=['Churn']).copy()\n",
        "yteste = teste[['Churn']].copy()\n",
        "\n",
        "# Dividindo os dados\n",
        "xtreino, xval, ytreino, yval = train_test_split(xtreino, ytreino, test_size=0.3, random_state=42, stratify=ytreino)"
      ]
    },
    {
      "cell_type": "code",
      "execution_count": 40,
      "id": "f9329b17",
      "metadata": {
        "execution": {
          "iopub.execute_input": "2024-04-24T06:28:07.462326Z",
          "iopub.status.busy": "2024-04-24T06:28:07.461939Z",
          "iopub.status.idle": "2024-04-24T06:28:08.360162Z",
          "shell.execute_reply": "2024-04-24T06:28:08.358965Z"
        },
        "papermill": {
          "duration": 0.916892,
          "end_time": "2024-04-24T06:28:08.362593",
          "exception": false,
          "start_time": "2024-04-24T06:28:07.445701",
          "status": "completed"
        },
        "tags": [],
        "id": "f9329b17"
      },
      "outputs": [],
      "source": [
        "# Codificando as variáveis categóricas\n",
        "codificador = category_encoders.TargetEncoder().fit(xtreino, ytreino)\n",
        "xtreino = codificador.transform(xtreino)\n",
        "xteste = codificador.transform(xteste)\n",
        "xval = codificador.transform(xval)"
      ]
    },
    {
      "cell_type": "code",
      "execution_count": 41,
      "id": "5a1c0d37",
      "metadata": {
        "execution": {
          "iopub.execute_input": "2024-04-24T06:28:08.395806Z",
          "iopub.status.busy": "2024-04-24T06:28:08.395420Z",
          "iopub.status.idle": "2024-04-24T06:28:08.468062Z",
          "shell.execute_reply": "2024-04-24T06:28:08.467029Z"
        },
        "papermill": {
          "duration": 0.091794,
          "end_time": "2024-04-24T06:28:08.470620",
          "exception": false,
          "start_time": "2024-04-24T06:28:08.378826",
          "status": "completed"
        },
        "tags": [],
        "id": "5a1c0d37"
      },
      "outputs": [],
      "source": [
        "# Escalonando os dados\n",
        "escalonador = StandardScaler().fit(xtreino)\n",
        "xtreino = escalonador.transform(xtreino)\n",
        "xteste = escalonador.transform(xteste)\n",
        "xval = escalonador.transform(xval)"
      ]
    },
    {
      "cell_type": "code",
      "source": [
        "# Visualizando estatísticas dos dados após codificação e escalonamento\n",
        "pd.DataFrame(xtreino).describe()"
      ],
      "metadata": {
        "colab": {
          "base_uri": "https://localhost:8080/",
          "height": 424
        },
        "id": "eBrfDawU7r2D",
        "outputId": "6c0f6e46-7b68-40d7-a402-d083f67c800f"
      },
      "id": "eBrfDawU7r2D",
      "execution_count": 42,
      "outputs": [
        {
          "output_type": "execute_result",
          "data": {
            "text/plain": [
              "                Age        Gender        Tenure  Usage Frequency  \\\n",
              "count  2.829140e+05  2.829140e+05  2.829140e+05     2.829140e+05   \n",
              "mean  -1.085728e-16 -4.771878e-17  4.073677e-17    -5.108421e-17   \n",
              "std    1.000002e+00  1.000002e+00  1.000002e+00     1.000002e+00   \n",
              "min   -1.712456e+00 -8.963651e-01 -1.758962e+00    -1.705481e+00   \n",
              "25%   -8.450729e-01 -8.963651e-01 -8.889976e-01    -8.938400e-01   \n",
              "50%    2.231020e-02 -8.963651e-01  3.896495e-02     3.374927e-02   \n",
              "75%    7.319873e-01  1.115617e+00  8.509322e-01     8.453899e-01   \n",
              "max    1.993635e+00  1.115617e+00  1.662899e+00     1.657031e+00   \n",
              "\n",
              "       Support Calls  Payment Delay  Subscription Type  Contract Length  \\\n",
              "count   2.829140e+05   2.829140e+05       2.829140e+05     2.829140e+05   \n",
              "mean   -9.945599e-18   3.719554e-17      -5.677782e-16     6.256184e-16   \n",
              "std     1.000002e+00   1.000002e+00       1.000002e+00     1.000002e+00   \n",
              "min    -1.223550e+00  -1.595663e+00      -7.705676e-01    -5.355280e-01   \n",
              "25%    -9.041170e-01  -8.856851e-01      -7.705676e-01    -5.355280e-01   \n",
              "50%    -2.652515e-01  -5.737802e-02      -6.188827e-01    -5.145141e-01   \n",
              "75%     6.930467e-01   7.709291e-01       1.434370e+00    -5.145141e-01   \n",
              "max     1.970778e+00   1.954225e+00       1.434370e+00     1.904707e+00   \n",
              "\n",
              "        Total Spend  Last Interaction  \n",
              "count  2.829140e+05      2.829140e+05  \n",
              "mean   5.531109e-16      1.245711e-17  \n",
              "std    1.000002e+00      1.000002e+00  \n",
              "min   -2.122903e+00     -1.581681e+00  \n",
              "25%   -7.110753e-01     -8.846225e-01  \n",
              "50%    1.172511e-01     -7.138805e-02  \n",
              "75%    8.313256e-01      8.580228e-01  \n",
              "max    1.549480e+00      1.787434e+00  "
            ],
            "text/html": [
              "\n",
              "  <div id=\"df-82810eb1-9cbb-434d-8587-827b0be1b470\" class=\"colab-df-container\">\n",
              "    <div>\n",
              "<style scoped>\n",
              "    .dataframe tbody tr th:only-of-type {\n",
              "        vertical-align: middle;\n",
              "    }\n",
              "\n",
              "    .dataframe tbody tr th {\n",
              "        vertical-align: top;\n",
              "    }\n",
              "\n",
              "    .dataframe thead th {\n",
              "        text-align: right;\n",
              "    }\n",
              "</style>\n",
              "<table border=\"1\" class=\"dataframe\">\n",
              "  <thead>\n",
              "    <tr style=\"text-align: right;\">\n",
              "      <th></th>\n",
              "      <th>Age</th>\n",
              "      <th>Gender</th>\n",
              "      <th>Tenure</th>\n",
              "      <th>Usage Frequency</th>\n",
              "      <th>Support Calls</th>\n",
              "      <th>Payment Delay</th>\n",
              "      <th>Subscription Type</th>\n",
              "      <th>Contract Length</th>\n",
              "      <th>Total Spend</th>\n",
              "      <th>Last Interaction</th>\n",
              "    </tr>\n",
              "  </thead>\n",
              "  <tbody>\n",
              "    <tr>\n",
              "      <th>count</th>\n",
              "      <td>2.829140e+05</td>\n",
              "      <td>2.829140e+05</td>\n",
              "      <td>2.829140e+05</td>\n",
              "      <td>2.829140e+05</td>\n",
              "      <td>2.829140e+05</td>\n",
              "      <td>2.829140e+05</td>\n",
              "      <td>2.829140e+05</td>\n",
              "      <td>2.829140e+05</td>\n",
              "      <td>2.829140e+05</td>\n",
              "      <td>2.829140e+05</td>\n",
              "    </tr>\n",
              "    <tr>\n",
              "      <th>mean</th>\n",
              "      <td>-1.085728e-16</td>\n",
              "      <td>-4.771878e-17</td>\n",
              "      <td>4.073677e-17</td>\n",
              "      <td>-5.108421e-17</td>\n",
              "      <td>-9.945599e-18</td>\n",
              "      <td>3.719554e-17</td>\n",
              "      <td>-5.677782e-16</td>\n",
              "      <td>6.256184e-16</td>\n",
              "      <td>5.531109e-16</td>\n",
              "      <td>1.245711e-17</td>\n",
              "    </tr>\n",
              "    <tr>\n",
              "      <th>std</th>\n",
              "      <td>1.000002e+00</td>\n",
              "      <td>1.000002e+00</td>\n",
              "      <td>1.000002e+00</td>\n",
              "      <td>1.000002e+00</td>\n",
              "      <td>1.000002e+00</td>\n",
              "      <td>1.000002e+00</td>\n",
              "      <td>1.000002e+00</td>\n",
              "      <td>1.000002e+00</td>\n",
              "      <td>1.000002e+00</td>\n",
              "      <td>1.000002e+00</td>\n",
              "    </tr>\n",
              "    <tr>\n",
              "      <th>min</th>\n",
              "      <td>-1.712456e+00</td>\n",
              "      <td>-8.963651e-01</td>\n",
              "      <td>-1.758962e+00</td>\n",
              "      <td>-1.705481e+00</td>\n",
              "      <td>-1.223550e+00</td>\n",
              "      <td>-1.595663e+00</td>\n",
              "      <td>-7.705676e-01</td>\n",
              "      <td>-5.355280e-01</td>\n",
              "      <td>-2.122903e+00</td>\n",
              "      <td>-1.581681e+00</td>\n",
              "    </tr>\n",
              "    <tr>\n",
              "      <th>25%</th>\n",
              "      <td>-8.450729e-01</td>\n",
              "      <td>-8.963651e-01</td>\n",
              "      <td>-8.889976e-01</td>\n",
              "      <td>-8.938400e-01</td>\n",
              "      <td>-9.041170e-01</td>\n",
              "      <td>-8.856851e-01</td>\n",
              "      <td>-7.705676e-01</td>\n",
              "      <td>-5.355280e-01</td>\n",
              "      <td>-7.110753e-01</td>\n",
              "      <td>-8.846225e-01</td>\n",
              "    </tr>\n",
              "    <tr>\n",
              "      <th>50%</th>\n",
              "      <td>2.231020e-02</td>\n",
              "      <td>-8.963651e-01</td>\n",
              "      <td>3.896495e-02</td>\n",
              "      <td>3.374927e-02</td>\n",
              "      <td>-2.652515e-01</td>\n",
              "      <td>-5.737802e-02</td>\n",
              "      <td>-6.188827e-01</td>\n",
              "      <td>-5.145141e-01</td>\n",
              "      <td>1.172511e-01</td>\n",
              "      <td>-7.138805e-02</td>\n",
              "    </tr>\n",
              "    <tr>\n",
              "      <th>75%</th>\n",
              "      <td>7.319873e-01</td>\n",
              "      <td>1.115617e+00</td>\n",
              "      <td>8.509322e-01</td>\n",
              "      <td>8.453899e-01</td>\n",
              "      <td>6.930467e-01</td>\n",
              "      <td>7.709291e-01</td>\n",
              "      <td>1.434370e+00</td>\n",
              "      <td>-5.145141e-01</td>\n",
              "      <td>8.313256e-01</td>\n",
              "      <td>8.580228e-01</td>\n",
              "    </tr>\n",
              "    <tr>\n",
              "      <th>max</th>\n",
              "      <td>1.993635e+00</td>\n",
              "      <td>1.115617e+00</td>\n",
              "      <td>1.662899e+00</td>\n",
              "      <td>1.657031e+00</td>\n",
              "      <td>1.970778e+00</td>\n",
              "      <td>1.954225e+00</td>\n",
              "      <td>1.434370e+00</td>\n",
              "      <td>1.904707e+00</td>\n",
              "      <td>1.549480e+00</td>\n",
              "      <td>1.787434e+00</td>\n",
              "    </tr>\n",
              "  </tbody>\n",
              "</table>\n",
              "</div>\n",
              "    <div class=\"colab-df-buttons\">\n",
              "\n",
              "  <div class=\"colab-df-container\">\n",
              "    <button class=\"colab-df-convert\" onclick=\"convertToInteractive('df-82810eb1-9cbb-434d-8587-827b0be1b470')\"\n",
              "            title=\"Convert this dataframe to an interactive table.\"\n",
              "            style=\"display:none;\">\n",
              "\n",
              "  <svg xmlns=\"http://www.w3.org/2000/svg\" height=\"24px\" viewBox=\"0 -960 960 960\">\n",
              "    <path d=\"M120-120v-720h720v720H120Zm60-500h600v-160H180v160Zm220 220h160v-160H400v160Zm0 220h160v-160H400v160ZM180-400h160v-160H180v160Zm440 0h160v-160H620v160ZM180-180h160v-160H180v160Zm440 0h160v-160H620v160Z\"/>\n",
              "  </svg>\n",
              "    </button>\n",
              "\n",
              "  <style>\n",
              "    .colab-df-container {\n",
              "      display:flex;\n",
              "      gap: 12px;\n",
              "    }\n",
              "\n",
              "    .colab-df-convert {\n",
              "      background-color: #E8F0FE;\n",
              "      border: none;\n",
              "      border-radius: 50%;\n",
              "      cursor: pointer;\n",
              "      display: none;\n",
              "      fill: #1967D2;\n",
              "      height: 32px;\n",
              "      padding: 0 0 0 0;\n",
              "      width: 32px;\n",
              "    }\n",
              "\n",
              "    .colab-df-convert:hover {\n",
              "      background-color: #E2EBFA;\n",
              "      box-shadow: 0px 1px 2px rgba(60, 64, 67, 0.3), 0px 1px 3px 1px rgba(60, 64, 67, 0.15);\n",
              "      fill: #174EA6;\n",
              "    }\n",
              "\n",
              "    .colab-df-buttons div {\n",
              "      margin-bottom: 4px;\n",
              "    }\n",
              "\n",
              "    [theme=dark] .colab-df-convert {\n",
              "      background-color: #3B4455;\n",
              "      fill: #D2E3FC;\n",
              "    }\n",
              "\n",
              "    [theme=dark] .colab-df-convert:hover {\n",
              "      background-color: #434B5C;\n",
              "      box-shadow: 0px 1px 3px 1px rgba(0, 0, 0, 0.15);\n",
              "      filter: drop-shadow(0px 1px 2px rgba(0, 0, 0, 0.3));\n",
              "      fill: #FFFFFF;\n",
              "    }\n",
              "  </style>\n",
              "\n",
              "    <script>\n",
              "      const buttonEl =\n",
              "        document.querySelector('#df-82810eb1-9cbb-434d-8587-827b0be1b470 button.colab-df-convert');\n",
              "      buttonEl.style.display =\n",
              "        google.colab.kernel.accessAllowed ? 'block' : 'none';\n",
              "\n",
              "      async function convertToInteractive(key) {\n",
              "        const element = document.querySelector('#df-82810eb1-9cbb-434d-8587-827b0be1b470');\n",
              "        const dataTable =\n",
              "          await google.colab.kernel.invokeFunction('convertToInteractive',\n",
              "                                                    [key], {});\n",
              "        if (!dataTable) return;\n",
              "\n",
              "        const docLinkHtml = 'Like what you see? Visit the ' +\n",
              "          '<a target=\"_blank\" href=https://colab.research.google.com/notebooks/data_table.ipynb>data table notebook</a>'\n",
              "          + ' to learn more about interactive tables.';\n",
              "        element.innerHTML = '';\n",
              "        dataTable['output_type'] = 'display_data';\n",
              "        await google.colab.output.renderOutput(dataTable, element);\n",
              "        const docLink = document.createElement('div');\n",
              "        docLink.innerHTML = docLinkHtml;\n",
              "        element.appendChild(docLink);\n",
              "      }\n",
              "    </script>\n",
              "  </div>\n",
              "\n",
              "\n",
              "<div id=\"df-278a2aee-51c6-47fa-b136-384af3bd4c03\">\n",
              "  <button class=\"colab-df-quickchart\" onclick=\"quickchart('df-278a2aee-51c6-47fa-b136-384af3bd4c03')\"\n",
              "            title=\"Suggest charts\"\n",
              "            style=\"display:none;\">\n",
              "\n",
              "<svg xmlns=\"http://www.w3.org/2000/svg\" height=\"24px\"viewBox=\"0 0 24 24\"\n",
              "     width=\"24px\">\n",
              "    <g>\n",
              "        <path d=\"M19 3H5c-1.1 0-2 .9-2 2v14c0 1.1.9 2 2 2h14c1.1 0 2-.9 2-2V5c0-1.1-.9-2-2-2zM9 17H7v-7h2v7zm4 0h-2V7h2v10zm4 0h-2v-4h2v4z\"/>\n",
              "    </g>\n",
              "</svg>\n",
              "  </button>\n",
              "\n",
              "<style>\n",
              "  .colab-df-quickchart {\n",
              "      --bg-color: #E8F0FE;\n",
              "      --fill-color: #1967D2;\n",
              "      --hover-bg-color: #E2EBFA;\n",
              "      --hover-fill-color: #174EA6;\n",
              "      --disabled-fill-color: #AAA;\n",
              "      --disabled-bg-color: #DDD;\n",
              "  }\n",
              "\n",
              "  [theme=dark] .colab-df-quickchart {\n",
              "      --bg-color: #3B4455;\n",
              "      --fill-color: #D2E3FC;\n",
              "      --hover-bg-color: #434B5C;\n",
              "      --hover-fill-color: #FFFFFF;\n",
              "      --disabled-bg-color: #3B4455;\n",
              "      --disabled-fill-color: #666;\n",
              "  }\n",
              "\n",
              "  .colab-df-quickchart {\n",
              "    background-color: var(--bg-color);\n",
              "    border: none;\n",
              "    border-radius: 50%;\n",
              "    cursor: pointer;\n",
              "    display: none;\n",
              "    fill: var(--fill-color);\n",
              "    height: 32px;\n",
              "    padding: 0;\n",
              "    width: 32px;\n",
              "  }\n",
              "\n",
              "  .colab-df-quickchart:hover {\n",
              "    background-color: var(--hover-bg-color);\n",
              "    box-shadow: 0 1px 2px rgba(60, 64, 67, 0.3), 0 1px 3px 1px rgba(60, 64, 67, 0.15);\n",
              "    fill: var(--button-hover-fill-color);\n",
              "  }\n",
              "\n",
              "  .colab-df-quickchart-complete:disabled,\n",
              "  .colab-df-quickchart-complete:disabled:hover {\n",
              "    background-color: var(--disabled-bg-color);\n",
              "    fill: var(--disabled-fill-color);\n",
              "    box-shadow: none;\n",
              "  }\n",
              "\n",
              "  .colab-df-spinner {\n",
              "    border: 2px solid var(--fill-color);\n",
              "    border-color: transparent;\n",
              "    border-bottom-color: var(--fill-color);\n",
              "    animation:\n",
              "      spin 1s steps(1) infinite;\n",
              "  }\n",
              "\n",
              "  @keyframes spin {\n",
              "    0% {\n",
              "      border-color: transparent;\n",
              "      border-bottom-color: var(--fill-color);\n",
              "      border-left-color: var(--fill-color);\n",
              "    }\n",
              "    20% {\n",
              "      border-color: transparent;\n",
              "      border-left-color: var(--fill-color);\n",
              "      border-top-color: var(--fill-color);\n",
              "    }\n",
              "    30% {\n",
              "      border-color: transparent;\n",
              "      border-left-color: var(--fill-color);\n",
              "      border-top-color: var(--fill-color);\n",
              "      border-right-color: var(--fill-color);\n",
              "    }\n",
              "    40% {\n",
              "      border-color: transparent;\n",
              "      border-right-color: var(--fill-color);\n",
              "      border-top-color: var(--fill-color);\n",
              "    }\n",
              "    60% {\n",
              "      border-color: transparent;\n",
              "      border-right-color: var(--fill-color);\n",
              "    }\n",
              "    80% {\n",
              "      border-color: transparent;\n",
              "      border-right-color: var(--fill-color);\n",
              "      border-bottom-color: var(--fill-color);\n",
              "    }\n",
              "    90% {\n",
              "      border-color: transparent;\n",
              "      border-bottom-color: var(--fill-color);\n",
              "    }\n",
              "  }\n",
              "</style>\n",
              "\n",
              "  <script>\n",
              "    async function quickchart(key) {\n",
              "      const quickchartButtonEl =\n",
              "        document.querySelector('#' + key + ' button');\n",
              "      quickchartButtonEl.disabled = true;  // To prevent multiple clicks.\n",
              "      quickchartButtonEl.classList.add('colab-df-spinner');\n",
              "      try {\n",
              "        const charts = await google.colab.kernel.invokeFunction(\n",
              "            'suggestCharts', [key], {});\n",
              "      } catch (error) {\n",
              "        console.error('Error during call to suggestCharts:', error);\n",
              "      }\n",
              "      quickchartButtonEl.classList.remove('colab-df-spinner');\n",
              "      quickchartButtonEl.classList.add('colab-df-quickchart-complete');\n",
              "    }\n",
              "    (() => {\n",
              "      let quickchartButtonEl =\n",
              "        document.querySelector('#df-278a2aee-51c6-47fa-b136-384af3bd4c03 button');\n",
              "      quickchartButtonEl.style.display =\n",
              "        google.colab.kernel.accessAllowed ? 'block' : 'none';\n",
              "    })();\n",
              "  </script>\n",
              "</div>\n",
              "\n",
              "    </div>\n",
              "  </div>\n"
            ],
            "application/vnd.google.colaboratory.intrinsic+json": {
              "type": "dataframe",
              "summary": "{\n  \"name\": \"pd\",\n  \"rows\": 8,\n  \"fields\": [\n    {\n      \"column\": \"Age\",\n      \"properties\": {\n        \"dtype\": \"number\",\n        \"std\": 100025.14382812944,\n        \"min\": -1.7124559391818057,\n        \"max\": 282914.0,\n        \"num_unique_values\": 8,\n        \"samples\": [\n          -1.0857279055440569e-16,\n          0.022310199361228144,\n          282914.0\n        ],\n        \"semantic_type\": \"\",\n        \"description\": \"\"\n      }\n    },\n    {\n      \"column\": \"Gender\",\n      \"properties\": {\n        \"dtype\": \"number\",\n        \"std\": 100025.17656826868,\n        \"min\": -0.8963650736444555,\n        \"max\": 282914.0,\n        \"num_unique_values\": 5,\n        \"samples\": [\n          -4.77187837273585e-17,\n          1.1156168724135844,\n          1.000001767325023\n        ],\n        \"semantic_type\": \"\",\n        \"description\": \"\"\n      }\n    },\n    {\n      \"column\": \"Tenure\",\n      \"properties\": {\n        \"dtype\": \"number\",\n        \"std\": 100025.1582509698,\n        \"min\": -1.7589624153770607,\n        \"max\": 282914.0,\n        \"num_unique_values\": 8,\n        \"samples\": [\n          4.0736772213566047e-17,\n          0.03896495284357854,\n          282914.0\n        ],\n        \"semantic_type\": \"\",\n        \"description\": \"\"\n      }\n    },\n    {\n      \"column\": \"Usage Frequency\",\n      \"properties\": {\n        \"dtype\": \"number\",\n        \"std\": 100025.15663393949,\n        \"min\": -1.705480682017719,\n        \"max\": 282914.0,\n        \"num_unique_values\": 8,\n        \"samples\": [\n          -5.1084213737603786e-17,\n          0.03374926843730367,\n          282914.0\n        ],\n        \"semantic_type\": \"\",\n        \"description\": \"\"\n      }\n    },\n    {\n      \"column\": \"Support Calls\",\n      \"properties\": {\n        \"dtype\": \"number\",\n        \"std\": 100025.13976114008,\n        \"min\": -1.223549724565259,\n        \"max\": 282914.0,\n        \"num_unique_values\": 8,\n        \"samples\": [\n          -9.94559913475472e-18,\n          -0.2652515354254321,\n          282914.0\n        ],\n        \"semantic_type\": \"\",\n        \"description\": \"\"\n      }\n    },\n    {\n      \"column\": \"Payment Delay\",\n      \"properties\": {\n        \"dtype\": \"number\",\n        \"std\": 100025.14402864278,\n        \"min\": -1.5956626269967855,\n        \"max\": 282914.0,\n        \"num_unique_values\": 8,\n        \"samples\": [\n          3.7195536158009446e-17,\n          -0.05737801655503137,\n          282914.0\n        ],\n        \"semantic_type\": \"\",\n        \"description\": \"\"\n      }\n    },\n    {\n      \"column\": \"Subscription Type\",\n      \"properties\": {\n        \"dtype\": \"number\",\n        \"std\": 100025.11764716281,\n        \"min\": -0.770567550533929,\n        \"max\": 282914.0,\n        \"num_unique_values\": 6,\n        \"samples\": [\n          282914.0,\n          -5.677781809075757e-16,\n          1.434370264288964\n        ],\n        \"semantic_type\": \"\",\n        \"description\": \"\"\n      }\n    },\n    {\n      \"column\": \"Contract Length\",\n      \"properties\": {\n        \"dtype\": \"number\",\n        \"std\": 100025.16331065464,\n        \"min\": -0.5355280318335592,\n        \"max\": 282914.0,\n        \"num_unique_values\": 6,\n        \"samples\": [\n          282914.0,\n          6.256183698150002e-16,\n          1.9047069993490846\n        ],\n        \"semantic_type\": \"\",\n        \"description\": \"\"\n      }\n    },\n    {\n      \"column\": \"Total Spend\",\n      \"properties\": {\n        \"dtype\": \"number\",\n        \"std\": 100025.17041161233,\n        \"min\": -2.122902566206555,\n        \"max\": 282914.0,\n        \"num_unique_values\": 8,\n        \"samples\": [\n          5.531109336987454e-16,\n          0.11725109973839792,\n          282914.0\n        ],\n        \"semantic_type\": \"\",\n        \"description\": \"\"\n      }\n    },\n    {\n      \"column\": \"Last Interaction\",\n      \"properties\": {\n        \"dtype\": \"number\",\n        \"std\": 100025.14800137066,\n        \"min\": -1.5816806874846578,\n        \"max\": 282914.0,\n        \"num_unique_values\": 8,\n        \"samples\": [\n          1.2457114067773588e-17,\n          -0.0713880498580949,\n          282914.0\n        ],\n        \"semantic_type\": \"\",\n        \"description\": \"\"\n      }\n    }\n  ]\n}"
            }
          },
          "metadata": {},
          "execution_count": 42
        }
      ]
    },
    {
      "cell_type": "markdown",
      "source": [
        "> Vamos usar o modelo de Árvore de Decisão, pois, é um modelo simples que pode servir como ponto de partida."
      ],
      "metadata": {
        "id": "BBRN1gGug85Y"
      },
      "id": "BBRN1gGug85Y"
    },
    {
      "cell_type": "markdown",
      "id": "55f7236d",
      "metadata": {
        "papermill": {
          "duration": 0.016043,
          "end_time": "2024-04-24T06:30:11.052840",
          "exception": false,
          "start_time": "2024-04-24T06:30:11.036797",
          "status": "completed"
        },
        "tags": [],
        "id": "55f7236d"
      },
      "source": [
        "#### Árvore de Decisão"
      ]
    },
    {
      "cell_type": "code",
      "source": [
        "# Criando o modelo de Árvore de Decisão\n",
        "modelo_ad = DecisionTreeClassifier(random_state=42)\n",
        "\n",
        "# Treinando o modelo com os dados de treino\n",
        "modelo_ad.fit(xtreino, ytreino)\n",
        "\n",
        "# Fazendo previsões\n",
        "ytreino_pred = modelo_ad.predict(xtreino)\n",
        "yval_pred = modelo_ad.predict(xval)\n",
        "yteste_pred = modelo_ad.predict(xteste)"
      ],
      "metadata": {
        "id": "ZSOr_Jnu8W8E"
      },
      "id": "ZSOr_Jnu8W8E",
      "execution_count": 45,
      "outputs": []
    },
    {
      "cell_type": "code",
      "source": [
        "# Avaliação do modelo\n",
        "print(\"Acurácia no Treino:\", accuracy_score(ytreino, ytreino_pred))\n",
        "print(\"Acurácia na Validação:\", accuracy_score(yval, yval_pred))\n",
        "print(\"Acurácia no Teste:\", accuracy_score(yteste, yteste_pred))\n",
        "\n",
        "# Matriz de confusão\n",
        "print(\"\\nMatriz de Confusão (Validação):\\n\", confusion_matrix(yval, yval_pred))\n",
        "\n",
        "# Relatório de Classificação\n",
        "print(\"\\nRelatório de Classificação (Validação):\\n\", classification_report(yval, yval_pred))"
      ],
      "metadata": {
        "colab": {
          "base_uri": "https://localhost:8080/"
        },
        "id": "f4NoXR_z9Ou-",
        "outputId": "2db88115-99e0-4084-8e3a-054a16e856d0"
      },
      "id": "f4NoXR_z9Ou-",
      "execution_count": 47,
      "outputs": [
        {
          "output_type": "stream",
          "name": "stdout",
          "text": [
            "Acurácia no Treino: 1.0\n",
            "Acurácia na Validação: 0.883439175257732\n",
            "Acurácia no Teste: 0.8837216207121791\n",
            "\n",
            "Matriz de Confusão (Validação):\n",
            " [[47649  6283]\n",
            " [ 7850 59468]]\n",
            "\n",
            "Relatório de Classificação (Validação):\n",
            "               precision    recall  f1-score   support\n",
            "\n",
            "         0.0       0.86      0.88      0.87     53932\n",
            "         1.0       0.90      0.88      0.89     67318\n",
            "\n",
            "    accuracy                           0.88    121250\n",
            "   macro avg       0.88      0.88      0.88    121250\n",
            "weighted avg       0.88      0.88      0.88    121250\n",
            "\n"
          ]
        }
      ]
    },
    {
      "cell_type": "code",
      "source": [
        "# Plotando a árvore treinada\n",
        "plt.figure(figsize=(20, 5))\n",
        "plot_tree(modelo_ad, feature_names=xtreino.columns, class_names=['Not Churn', 'Churn'], filled=True, rounded=True, max_depth=4)\n",
        "plt.show()"
      ],
      "metadata": {
        "colab": {
          "base_uri": "https://localhost:8080/",
          "height": 304
        },
        "collapsed": true,
        "id": "42-n7BUB9qJZ",
        "outputId": "b44a6b0a-cf63-43e1-f483-b7b6db75b847"
      },
      "id": "42-n7BUB9qJZ",
      "execution_count": 49,
      "outputs": [
        {
          "output_type": "display_data",
          "data": {
            "text/plain": [
              "<Figure size 2000x500 with 1 Axes>"
            ],
            "image/png": "[encoded data removed]"
          },
          "metadata": {}
        }
      ]
    },
    {
      "cell_type": "markdown",
      "source": [
        "> Vamos analisar a correlação entre as features e a variável alvo."
      ],
      "metadata": {
        "id": "pfkiQiH7Cttv"
      },
      "id": "pfkiQiH7Cttv"
    },
    {
      "cell_type": "code",
      "source": [
        "# Criando um DataFrame temporário com os dados já transformados\n",
        "temp_df = pd.DataFrame(xtreino, columns=xtreino.columns)\n",
        "temp_df['Churn'] = ytreino.values  # Adicionando a variável-alvo\n",
        "\n",
        "# Matriz de correlação\n",
        "plt.figure(figsize=(10, 6))\n",
        "sns.heatmap(temp_df.corr(), annot=True, cmap=\"coolwarm\", fmt=\".2f\")\n",
        "plt.title(\"Correlação entre as variáveis\")\n",
        "plt.show()"
      ],
      "metadata": {
        "colab": {
          "base_uri": "https://localhost:8080/",
          "height": 654
        },
        "id": "mVqR_bcoCqqL",
        "outputId": "62dcf338-488f-4fda-b078-3dcd25afa78a"
      },
      "id": "mVqR_bcoCqqL",
      "execution_count": 50,
      "outputs": [
        {
          "output_type": "display_data",
          "data": {
            "text/plain": [
              "<Figure size 1000x600 with 2 Axes>"
            ],
            "image/png": "[encoded data removed]"
          },
          "metadata": {}
        }
      ]
    },
    {
      "cell_type": "markdown",
      "source": [
        "> Como podemos ver, com 88% de acurácia, o modelo mostrou resultados razoáveis, mas podemos melhora-lo. O principal problema é o overfitting no treino, que pode ser resolvido com ajustes de hiperparâmetros. Devemos então, explorar outro modelo para obter uma acurácia mais precisa. Vamos refina-lo com o modelo de Random Forest."
      ],
      "metadata": {
        "id": "nYTKaMfCkN19"
      },
      "id": "nYTKaMfCkN19"
    },
    {
      "cell_type": "markdown",
      "source": [
        "### Random Forest"
      ],
      "metadata": {
        "id": "LGSwlqpuAOu1"
      },
      "id": "LGSwlqpuAOu1"
    },
    {
      "cell_type": "code",
      "source": [
        "# Criando o modelo de Random Forest\n",
        "modelo_ad = RandomForestClassifier(n_estimators=100, random_state=42, n_jobs=-1)\n",
        "\n",
        "# Treinando o modelo com os dados de treino\n",
        "modelo_ad.fit(xtreino, ytreino)\n",
        "\n",
        "# Fazendo previsões\n",
        "ytreino_pred_rf = modelo_ad.predict(xtreino)\n",
        "yval_pred_rf = modelo_ad.predict(xval)\n",
        "yteste_pred_rf = modelo_ad.predict(xteste)"
      ],
      "metadata": {
        "id": "wccDytQpIcJM"
      },
      "id": "wccDytQpIcJM",
      "execution_count": 51,
      "outputs": []
    },
    {
      "cell_type": "markdown",
      "source": [
        "> Agora, vamos avaliar o desempenho do modelo Random Forest em relação com a Árvore de Decisão, para verificar se é um modelo mais preciso."
      ],
      "metadata": {
        "id": "egxeGEEREs9L"
      },
      "id": "egxeGEEREs9L"
    },
    {
      "cell_type": "code",
      "source": [
        "# Avaliando no conjunto de validação\n",
        "print(\"Acurácia na validação:\", accuracy_score(yval, yval_pred_rf))\n",
        "print(\"Relatório de classificação:\\n\", classification_report(yval, yval_pred_rf))\n",
        "print(\"Matriz de confusão:\\n\", confusion_matrix(yval, yval_pred_rf))\n",
        "\n",
        "# Avaliando no conjunto de teste\n",
        "print(\"Acurácia no teste:\", accuracy_score(yteste, yteste_pred_rf))\n",
        "print(\"Relatório de classificação no teste:\\n\", classification_report(yteste, yteste_pred_rf))\n",
        "print(\"Matriz de confusão no teste:\\n\", confusion_matrix(yteste, yteste_pred_rf))"
      ],
      "metadata": {
        "colab": {
          "base_uri": "https://localhost:8080/"
        },
        "id": "gMx3rWB1Et95",
        "outputId": "39143d11-6ea0-401d-d416-f61bb0780f09"
      },
      "id": "gMx3rWB1Et95",
      "execution_count": 52,
      "outputs": [
        {
          "output_type": "stream",
          "name": "stdout",
          "text": [
            "Acurácia na validação: 0.9367752577319588\n",
            "Relatório de classificação:\n",
            "               precision    recall  f1-score   support\n",
            "\n",
            "         0.0       1.00      0.86      0.92     53932\n",
            "         1.0       0.90      1.00      0.95     67318\n",
            "\n",
            "    accuracy                           0.94    121250\n",
            "   macro avg       0.95      0.93      0.93    121250\n",
            "weighted avg       0.94      0.94      0.94    121250\n",
            "\n",
            "Matriz de confusão:\n",
            " [[46331  7601]\n",
            " [   65 67253]]\n",
            "Acurácia no teste: 0.9371845371231765\n",
            "Relatório de classificação no teste:\n",
            "               precision    recall  f1-score   support\n",
            "\n",
            "         0.0       1.00      0.86      0.92     44943\n",
            "         1.0       0.90      1.00      0.95     56099\n",
            "\n",
            "    accuracy                           0.94    101042\n",
            "   macro avg       0.95      0.93      0.94    101042\n",
            "weighted avg       0.94      0.94      0.94    101042\n",
            "\n",
            "Matriz de confusão no teste:\n",
            " [[38661  6282]\n",
            " [   65 56034]]\n"
          ]
        }
      ]
    },
    {
      "cell_type": "markdown",
      "source": [
        "Testando o modelo no conjunto de teste."
      ],
      "metadata": {
        "id": "i6wCW44HFYmC"
      },
      "id": "i6wCW44HFYmC"
    },
    {
      "cell_type": "code",
      "source": [
        "# Acurácia no conjunto de teste\n",
        "teste_acuracia = accuracy_score(yteste, yteste_pred_rf)\n",
        "print(\"Acurácia no conjunto de teste:\", teste_acuracia)\n",
        "\n",
        "# Relatório de classificação\n",
        "print(\"\\nRelatório de Classificação no Teste:\")\n",
        "print(classification_report(yteste, yteste_pred_rf))\n",
        "\n",
        "# Matriz de Confusão\n",
        "print(\"\\nMatriz de Confusão no Teste:\")\n",
        "print(confusion_matrix(yteste, yteste_pred_rf))"
      ],
      "metadata": {
        "colab": {
          "base_uri": "https://localhost:8080/"
        },
        "id": "l5cs95EAGKb-",
        "outputId": "c77ea5ce-4ebd-4dd4-e189-842f76104e65"
      },
      "id": "l5cs95EAGKb-",
      "execution_count": 53,
      "outputs": [
        {
          "output_type": "stream",
          "name": "stdout",
          "text": [
            "Acurácia no conjunto de teste: 0.9371845371231765\n",
            "\n",
            "Relatório de Classificação no Teste:\n",
            "              precision    recall  f1-score   support\n",
            "\n",
            "         0.0       1.00      0.86      0.92     44943\n",
            "         1.0       0.90      1.00      0.95     56099\n",
            "\n",
            "    accuracy                           0.94    101042\n",
            "   macro avg       0.95      0.93      0.94    101042\n",
            "weighted avg       0.94      0.94      0.94    101042\n",
            "\n",
            "\n",
            "Matriz de Confusão no Teste:\n",
            "[[38661  6282]\n",
            " [   65 56034]]\n"
          ]
        }
      ]
    },
    {
      "cell_type": "markdown",
      "source": [
        "## Conclusão e Interpretação dos Resultados"
      ],
      "metadata": {
        "id": "I1imwkOoXY4Y"
      },
      "id": "I1imwkOoXY4Y"
    },
    {
      "cell_type": "markdown",
      "source": [
        "O modelo apresentou uma acurácia de aproximadamente **93,7%** no conjunto de teste. Um salto em relação aos 88% com a Árvore de Decisão, que obteve uma acurácia de treino de 1.0, indicando overfitting. Isso demonstra que o modelo final escolhido foi otimizado com sucesso, mantendo alta generalização. Essa taxa é muito boa, considerando o desafio de previsão de churn (cliente que cancela sua assinatura)."
      ],
      "metadata": {
        "id": "-KLvzhbp1-KU"
      },
      "id": "-KLvzhbp1-KU"
    },
    {
      "cell_type": "markdown",
      "source": [
        "Os resultados demonstram que o modelo Random Forest está muito bem ajustado para fazer sua previsão:\n",
        "\n",
        "* **Excelente detecção de churn:** Com um recall de quase 100% para clientes que cancelaram, o modelo é altamente eficaz para identificar os clientes em risco.\n",
        "* **Alto nível de confiança nas previsões:** A precisão de 1.00 para clientes que permanecem e 0.90 para os churners indicam que a maioria das previsões é correta.\n",
        "* **Base sólida para estratégias de retenção:** Esses resultados fornecem uma excelente base para que ações direcionadas de retenção sejam implementadas, minimizando perdas e otimizando os recursos."
      ],
      "metadata": {
        "id": "9vbrzEfXnWYz"
      },
      "id": "9vbrzEfXnWYz"
    },
    {
      "cell_type": "markdown",
      "source": [
        "Por fim, o modelo atende bem aos objetivos do projeto de churn, permitindo identificar com alta confiabilidade os clientes que cancelaram o serviço e possibilitando uma ação preventiva eficaz."
      ],
      "metadata": {
        "id": "Pg6CEneP233p"
      },
      "id": "Pg6CEneP233p"
    }
  ],
  "metadata": {
    "kaggle": {
      "accelerator": "none",
      "dataSources": [
        {
          "datasetId": 3404076,
          "sourceId": 5929113,
          "sourceType": "datasetVersion"
        }
      ],
      "isGpuEnabled": false,
      "isInternetEnabled": true,
      "language": "python",
      "sourceType": "notebook"
    },
    "kernelspec": {
      "display_name": "Python 3",
      "language": "python",
      "name": "python3"
    },
    "language_info": {
      "codemirror_mode": {
        "name": "ipython",
        "version": 3
      },
      "file_extension": ".py",
      "mimetype": "text/x-python",
      "name": "python",
      "nbconvert_exporter": "python",
      "pygments_lexer": "ipython3",
      "version": "3.10.13"
    },
    "papermill": {
      "default_parameters": {},
      "duration": 13774.542159,
      "end_time": "2024-04-24T10:17:07.018813",
      "environment_variables": {},
      "exception": null,
      "input_path": "__notebook__.ipynb",
      "output_path": "__notebook__.ipynb",
      "parameters": {},
      "start_time": "2024-04-24T06:27:32.476654",
      "version": "2.5.0"
    },
    "colab": {
      "provenance": [],
      "toc_visible": true
    }
  },
  "nbformat": 4,
  "nbformat_minor": 5
}